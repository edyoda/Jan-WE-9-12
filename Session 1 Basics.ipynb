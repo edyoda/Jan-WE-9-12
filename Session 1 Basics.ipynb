{
 "cells": [
  {
   "cell_type": "code",
   "execution_count": 3,
   "metadata": {},
   "outputs": [
    {
     "name": "stdout",
     "output_type": "stream",
     "text": [
      "hi\n"
     ]
    }
   ],
   "source": [
    "print(\"hi\")"
   ]
  },
  {
   "cell_type": "code",
   "execution_count": 7,
   "metadata": {},
   "outputs": [
    {
     "name": "stdout",
     "output_type": "stream",
     "text": [
      "Python\n"
     ]
    }
   ],
   "source": [
    "print(\"Python\")"
   ]
  },
  {
   "cell_type": "markdown",
   "metadata": {},
   "source": [
    "### Modes of execution :\n",
    "> 1. Interactive mode cmd python >>> quit()\n",
    "> 2. Scripting mode file_name.py cmd python filename.py\n",
    "> 3. IDE :\n",
    "        - Jupyter : ctrl + enter , shift + enter \n",
    "        \n",
    "        - Sublime : ctrl s , ctrl b"
   ]
  },
  {
   "cell_type": "code",
   "execution_count": 9,
   "metadata": {},
   "outputs": [
    {
     "name": "stdout",
     "output_type": "stream",
     "text": [
      "Sample string \n"
     ]
    }
   ],
   "source": [
    "print(\"Sample string \")"
   ]
  },
  {
   "cell_type": "markdown",
   "metadata": {},
   "source": [
    "### Data types:\n",
    "> 1. int 10 25 2566666666 => Immutable not iterable  \n",
    "> 2. float 10.25555 45.2222555 => Immutable not iterable\n",
    "> 3. str 'Python' \"Java\" \"\"\"Python sample string\"\"\" => Immutable - iterable  \n",
    "> 4. list [10,20,30,40,\"Python\",[100,200,300,400]] - mutable => add update and delete the elements -iterable \n",
    "> 5. tuple (10,20,30,\"Python\",(100,200,300,500)) - immutable - iterable \n",
    "> 6. dict {\"name\":\"abc\",\"email\":\"abc@gmail.com\",\"contact\":\"7123456789\"} - mutable - iterable \n",
    "> 7. set {10,20,30,40,50} => mutable  - iterable \n",
    "> 8. bool True False => immutable  -no iterable "
   ]
  },
  {
   "cell_type": "code",
   "execution_count": 14,
   "metadata": {},
   "outputs": [
    {
     "name": "stdout",
     "output_type": "stream",
     "text": [
      "100 <class 'int'>\n"
     ]
    }
   ],
   "source": [
    "num1 = 100\n",
    "print(num1,type(num1))"
   ]
  },
  {
   "cell_type": "code",
   "execution_count": 16,
   "metadata": {},
   "outputs": [
    {
     "name": "stdout",
     "output_type": "stream",
     "text": [
      "Python string <class 'str'>\n"
     ]
    }
   ],
   "source": [
    "s = \"Python string\"\n",
    "print(s,type(s))"
   ]
  },
  {
   "cell_type": "code",
   "execution_count": 17,
   "metadata": {},
   "outputs": [
    {
     "name": "stdout",
     "output_type": "stream",
     "text": [
      "[10, 20, 30, 40, 50, 60] <class 'list'>\n"
     ]
    }
   ],
   "source": [
    "l = [10,20,30,40,50,60]\n",
    "print(l,type(l))"
   ]
  },
  {
   "cell_type": "code",
   "execution_count": 18,
   "metadata": {},
   "outputs": [
    {
     "name": "stdout",
     "output_type": "stream",
     "text": [
      "{1: 1, 2: 4, 3: 9, 4: 16} <class 'dict'>\n"
     ]
    }
   ],
   "source": [
    "d = {1:1,2:4,3:9,4:16}\n",
    "print(d,type(d))"
   ]
  },
  {
   "cell_type": "code",
   "execution_count": 19,
   "metadata": {},
   "outputs": [
    {
     "name": "stdout",
     "output_type": "stream",
     "text": [
      "100 <class 'int'>\n",
      "Python <class 'str'>\n"
     ]
    }
   ],
   "source": [
    "num1 = 100\n",
    "print(num1,type(num1))\n",
    "\n",
    "num1 = \"Python\"\n",
    "print(num1,type(num1))"
   ]
  },
  {
   "cell_type": "code",
   "execution_count": 20,
   "metadata": {},
   "outputs": [
    {
     "name": "stdout",
     "output_type": "stream",
     "text": [
      "1930197152\n"
     ]
    }
   ],
   "source": [
    "num1 = 100\n",
    "print(id(num1))"
   ]
  },
  {
   "cell_type": "code",
   "execution_count": 22,
   "metadata": {},
   "outputs": [
    {
     "name": "stdout",
     "output_type": "stream",
     "text": [
      "100 1930197152\n",
      "101 1930197184\n"
     ]
    }
   ],
   "source": [
    "num1 = 100\n",
    "print(num1,id(num1))\n",
    "\n",
    "num1 = 101\n",
    "print(num1,id(num1))"
   ]
  },
  {
   "cell_type": "code",
   "execution_count": null,
   "metadata": {},
   "outputs": [],
   "source": [
    "100 7152\n",
    "101 7184 num1 "
   ]
  },
  {
   "cell_type": "code",
   "execution_count": null,
   "metadata": {},
   "outputs": [],
   "source": [
    "101\n",
    "num1\n",
    "10001      "
   ]
  },
  {
   "cell_type": "code",
   "execution_count": 27,
   "metadata": {},
   "outputs": [
    {
     "name": "stdout",
     "output_type": "stream",
     "text": [
      "2434766229584\n",
      "2434766566736\n",
      "2434766229840\n"
     ]
    }
   ],
   "source": [
    "num1 = 257\n",
    "print(id(num1))\n",
    "\n",
    "num1 = 258\n",
    "print(id(num1))\n",
    "\n",
    "num2 = 257\n",
    "print(id(num2))"
   ]
  },
  {
   "cell_type": "code",
   "execution_count": null,
   "metadata": {},
   "outputs": [],
   "source": [
    "0-256 "
   ]
  },
  {
   "cell_type": "code",
   "execution_count": 30,
   "metadata": {},
   "outputs": [
    {
     "name": "stdout",
     "output_type": "stream",
     "text": [
      "2434765807368\n",
      "[10, 20, 30, 'python', 40]\n",
      "2434765807368\n"
     ]
    }
   ],
   "source": [
    "l = [10,20,30,\"python\"]\n",
    "print(id(l))\n",
    "l.append(40)\n",
    "print(l)\n",
    "print(id(l))"
   ]
  },
  {
   "cell_type": "code",
   "execution_count": 31,
   "metadata": {},
   "outputs": [
    {
     "name": "stdout",
     "output_type": "stream",
     "text": [
      "2434725778408\n",
      "2434725724208\n"
     ]
    }
   ],
   "source": [
    "s = \"Python\"\n",
    "print(id(s))\n",
    "s = \"java\"\n",
    "print(id(s))"
   ]
  },
  {
   "cell_type": "code",
   "execution_count": 32,
   "metadata": {},
   "outputs": [
    {
     "name": "stdout",
     "output_type": "stream",
     "text": [
      "100 100\n"
     ]
    }
   ],
   "source": [
    "num1 = num2 = 100\n",
    "print(num1,num2)"
   ]
  },
  {
   "cell_type": "code",
   "execution_count": 34,
   "metadata": {},
   "outputs": [
    {
     "name": "stdout",
     "output_type": "stream",
     "text": [
      "100 200\n",
      "200 100\n"
     ]
    }
   ],
   "source": [
    "num1 ,num2 = 100,200\n",
    "print(num1,num2)\n",
    "\n",
    "num1,num2 = num2,num1\n",
    "print(num1,num2)"
   ]
  },
  {
   "cell_type": "code",
   "execution_count": 37,
   "metadata": {},
   "outputs": [
    {
     "ename": "SyntaxError",
     "evalue": "invalid syntax (<ipython-input-37-6e419fbe190e>, line 1)",
     "output_type": "error",
     "traceback": [
      "\u001b[1;36m  File \u001b[1;32m\"<ipython-input-37-6e419fbe190e>\"\u001b[1;36m, line \u001b[1;32m1\u001b[0m\n\u001b[1;33m    int num5\u001b[0m\n\u001b[1;37m           ^\u001b[0m\n\u001b[1;31mSyntaxError\u001b[0m\u001b[1;31m:\u001b[0m invalid syntax\n"
     ]
    }
   ],
   "source": [
    "num5 = 5\n"
   ]
  },
  {
   "cell_type": "markdown",
   "metadata": {},
   "source": [
    "### Operators\n",
    "1 Arithmetic operators +,-,*,/,// - floor division,% - mod ,**\n",
    "2 Comparison Operators  ==,!=,<,>,<= ,>= True/False\n",
    "3 Identity Operators is is not \n",
    "4 Membership operators in not in \n",
    "5 logical operators and or not \n",
    "6 Assignment operators =,+=,-=,/=,*="
   ]
  },
  {
   "cell_type": "code",
   "execution_count": 39,
   "metadata": {},
   "outputs": [
    {
     "name": "stdout",
     "output_type": "stream",
     "text": [
      "2434766229648\n",
      "2434766229872\n"
     ]
    }
   ],
   "source": [
    "num1 = 1000\n",
    "print(id(num1))\n",
    "\n",
    "num1 = 1001\n",
    "print(id(num1))"
   ]
  },
  {
   "cell_type": "code",
   "execution_count": 45,
   "metadata": {},
   "outputs": [
    {
     "name": "stdout",
     "output_type": "stream",
     "text": [
      "3.3333333333333335\n",
      "3\n",
      "1\n",
      "5.0\n"
     ]
    }
   ],
   "source": [
    "print(10 / 3)\n",
    "print(10 // 3)\n",
    "print(10 % 3)\n",
    "print(25 ** 0.5)"
   ]
  },
  {
   "cell_type": "code",
   "execution_count": 47,
   "metadata": {},
   "outputs": [
    {
     "name": "stdout",
     "output_type": "stream",
     "text": [
      "False\n"
     ]
    }
   ],
   "source": [
    "num1 = 100\n",
    "num2 = 101\n",
    "print(num1 == num2)"
   ]
  },
  {
   "cell_type": "code",
   "execution_count": 50,
   "metadata": {},
   "outputs": [
    {
     "name": "stdout",
     "output_type": "stream",
     "text": [
      "True\n"
     ]
    }
   ],
   "source": [
    "l1 = [10,20,30]\n",
    "l2 = [10,20,30,40]\n",
    "print(l1 != l2)\n"
   ]
  },
  {
   "cell_type": "code",
   "execution_count": 55,
   "metadata": {},
   "outputs": [
    {
     "name": "stdout",
     "output_type": "stream",
     "text": [
      "True\n",
      "False\n"
     ]
    }
   ],
   "source": [
    "num1 = 1000\n",
    "num2 = 1000\n",
    "print(num1 == num2)\n",
    "print(num1 is num2)"
   ]
  },
  {
   "cell_type": "code",
   "execution_count": 59,
   "metadata": {},
   "outputs": [
    {
     "name": "stdout",
     "output_type": "stream",
     "text": [
      "True\n",
      "False\n"
     ]
    }
   ],
   "source": [
    "l1 = [10,20,30]\n",
    "l2 = [10,20,30]\n",
    "l2 = l1\n",
    "print(l1 == l2)\n",
    "print(l1 is not l2)"
   ]
  },
  {
   "cell_type": "code",
   "execution_count": 78,
   "metadata": {},
   "outputs": [
    {
     "name": "stdout",
     "output_type": "stream",
     "text": [
      "True\n"
     ]
    }
   ],
   "source": [
    "l = [10,20,30,40,50]\n",
    "d = {1:1,2:4,3:9,4:16}\n",
    "# print(400 in l)\n",
    "print('4' in '400')\n",
    "# print(16 in d)"
   ]
  },
  {
   "cell_type": "code",
   "execution_count": 68,
   "metadata": {},
   "outputs": [
    {
     "name": "stdout",
     "output_type": "stream",
     "text": [
      "False\n"
     ]
    }
   ],
   "source": [
    "print(not(10 == 10 or 10==11))"
   ]
  },
  {
   "cell_type": "code",
   "execution_count": 73,
   "metadata": {},
   "outputs": [
    {
     "name": "stdout",
     "output_type": "stream",
     "text": [
      "105\n",
      "21.0\n"
     ]
    }
   ],
   "source": [
    "num1 = 100\n",
    "num1 =num1 + 5\n",
    "print(num1)\n",
    "\n",
    "num1/=5\n",
    "print(num1)"
   ]
  },
  {
   "cell_type": "code",
   "execution_count": null,
   "metadata": {},
   "outputs": [],
   "source": [
    "== ,!=,<,> coamprison operators \n",
    "and or not logical operator\n",
    "is is not identity \n",
    "in not in membership "
   ]
  },
  {
   "cell_type": "code",
   "execution_count": null,
   "metadata": {},
   "outputs": [],
   "source": [
    "and T T => T \n",
    "or  F F => F \n",
    "not T "
   ]
  },
  {
   "cell_type": "code",
   "execution_count": 75,
   "metadata": {},
   "outputs": [
    {
     "name": "stdout",
     "output_type": "stream",
     "text": [
      "True\n"
     ]
    }
   ],
   "source": [
    "print(5%5 == 0 or 5 %3 ==0 )"
   ]
  },
  {
   "cell_type": "code",
   "execution_count": null,
   "metadata": {},
   "outputs": [],
   "source": [
    "ireactive  >> cmd python >>> quit()\n",
    "scripting  .py python filename.py \n",
    "ide  ctrl + enter "
   ]
  },
  {
   "cell_type": "code",
   "execution_count": null,
   "metadata": {},
   "outputs": [],
   "source": [
    "Mutable :\n",
    "    list \n",
    "    dict \n",
    "    set \n",
    "    \n",
    "Immutable :\n",
    "    int \n",
    "    float \n",
    "    str \n",
    "    bool \n",
    "    tuple "
   ]
  },
  {
   "cell_type": "code",
   "execution_count": null,
   "metadata": {},
   "outputs": [],
   "source": [
    "iterable : str,list,tuple,dict ,set \n",
    "not iterable int ,float , bool "
   ]
  },
  {
   "cell_type": "code",
   "execution_count": null,
   "metadata": {},
   "outputs": [],
   "source": [
    "num1 = 100,100 == 100\n",
    "== ,is\n",
    "in in dict => keys \n"
   ]
  },
  {
   "cell_type": "code",
   "execution_count": null,
   "metadata": {},
   "outputs": [],
   "source": [
    "type()\n",
    "id()"
   ]
  },
  {
   "cell_type": "code",
   "execution_count": null,
   "metadata": {},
   "outputs": [],
   "source": [
    "num1 = 1000\n",
    "num1 = 1000\n"
   ]
  },
  {
   "cell_type": "code",
   "execution_count": null,
   "metadata": {},
   "outputs": [],
   "source": [
    "l1 = [10,20,30]\n",
    "l2 = [10,20,30]\n"
   ]
  }
 ],
 "metadata": {
  "kernelspec": {
   "display_name": "Python 3",
   "language": "python",
   "name": "python3"
  },
  "language_info": {
   "codemirror_mode": {
    "name": "ipython",
    "version": 3
   },
   "file_extension": ".py",
   "mimetype": "text/x-python",
   "name": "python",
   "nbconvert_exporter": "python",
   "pygments_lexer": "ipython3",
   "version": "3.6.5"
  }
 },
 "nbformat": 4,
 "nbformat_minor": 2
}
