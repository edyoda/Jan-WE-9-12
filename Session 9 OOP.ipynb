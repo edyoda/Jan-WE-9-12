{
 "cells": [
  {
   "cell_type": "code",
   "execution_count": null,
   "metadata": {},
   "outputs": [],
   "source": [
    "OOP: \n",
    "    Class \n",
    "    Objects"
   ]
  },
  {
   "cell_type": "code",
   "execution_count": null,
   "metadata": {},
   "outputs": [],
   "source": [
    "Paytm : \n",
    "Class\n",
    "    Data members :\n",
    "    mob no \n",
    "    email \n",
    "    kyc details \n",
    "    payments details \n",
    "    \n",
    "    Methods \n",
    "    recharge \n",
    "    add money to wallet \n",
    "    view passbook \n",
    "    \n",
    "Objects :\n",
    "    \n",
    "user1\n",
    "user2 "
   ]
  },
  {
   "cell_type": "code",
   "execution_count": null,
   "metadata": {},
   "outputs": [],
   "source": [
    "Emp :\n",
    "    id \n",
    "    name \n",
    "    email\n",
    "    sal \n",
    "    \n",
    "    get_details\n",
    "    incr_sal \n",
    "    set_dept"
   ]
  },
  {
   "cell_type": "code",
   "execution_count": 1,
   "metadata": {},
   "outputs": [
    {
     "name": "stdout",
     "output_type": "stream",
     "text": [
      "<__main__.Emp object at 0x0000027025F66358>\n"
     ]
    }
   ],
   "source": [
    "class Emp:\n",
    "    pass\n",
    "emp1 = Emp()\n",
    "print(emp1)"
   ]
  },
  {
   "cell_type": "code",
   "execution_count": null,
   "metadata": {},
   "outputs": [],
   "source": [
    "Instance Variable : "
   ]
  },
  {
   "cell_type": "code",
   "execution_count": 27,
   "metadata": {},
   "outputs": [
    {
     "name": "stdout",
     "output_type": "stream",
     "text": [
      "<__main__.Emp object at 0x0000027025F34A58>\n",
      "<__main__.Emp object at 0x0000027025F34A58>\n",
      "<__main__.Emp object at 0x0000027025F34A58>\n",
      "<__main__.Emp object at 0x0000027025F34A58>\n"
     ]
    }
   ],
   "source": [
    "class Emp:\n",
    "    count = 0 \n",
    "    emps = []\n",
    "    \n",
    "    def __init__(self,emp_id,name,email,sal):\n",
    "        self.id = emp_id\n",
    "        self.name = name \n",
    "        self.email = email\n",
    "        self.sal = sal\n",
    "        \n",
    "        Emp.count +=1  \n",
    "        Emp.emps.append(self)\n",
    "        \n",
    "    def set_dept(self,dept_name):\n",
    "        self.dept_name = dept_name\n",
    "        \n",
    "    def incr_sal(self,per = 30):\n",
    "        self.sal += (self.sal * per)/100\n",
    "        return self.sal\n",
    "\n",
    "emp1 = Emp(101,\"ABC\",\"abc@xyz.com\",55000)\n",
    "print(emp1)\n",
    "\n",
    "emp2 = Emp(102,\"PQR\",\"pqr@xyz.com\",65000)\n",
    "print(emp1)\n",
    "\n",
    "emp3 = Emp(103,\"RST\",\"pqr@xyz.com\",75000)\n",
    "print(emp1)\n",
    "\n",
    "emp4 = Emp(104,\"KKK\",\"pqr@xyz.com\",55000)\n",
    "print(emp1)"
   ]
  },
  {
   "cell_type": "code",
   "execution_count": 28,
   "metadata": {},
   "outputs": [
    {
     "name": "stdout",
     "output_type": "stream",
     "text": [
      "[<__main__.Emp object at 0x0000027025F34A58>, <__main__.Emp object at 0x0000027025F344E0>, <__main__.Emp object at 0x0000027025F34198>, <__main__.Emp object at 0x0000027025F340F0>]\n"
     ]
    }
   ],
   "source": [
    "print(Emp.emps)"
   ]
  },
  {
   "cell_type": "code",
   "execution_count": 20,
   "metadata": {},
   "outputs": [
    {
     "name": "stdout",
     "output_type": "stream",
     "text": [
      "4\n",
      "4\n"
     ]
    }
   ],
   "source": [
    "print(Emp.count)\n",
    "print(emp1.count)"
   ]
  },
  {
   "cell_type": "code",
   "execution_count": 24,
   "metadata": {},
   "outputs": [
    {
     "name": "stdout",
     "output_type": "stream",
     "text": [
      "100\n",
      "{'id': 101, 'name': 'ABC', 'email': 'abc@xyz.com', 'sal': 55000}\n"
     ]
    }
   ],
   "source": [
    "Emp.count = 100 \n",
    "print(emp1.count)\n",
    "print(emp1.__dict__)"
   ]
  },
  {
   "cell_type": "code",
   "execution_count": 26,
   "metadata": {},
   "outputs": [
    {
     "name": "stdout",
     "output_type": "stream",
     "text": [
      "{'id': 101, 'name': 'ABC', 'email': 'abc@xyz.com', 'sal': 55000, 'count': 200}\n",
      "{'__module__': '__main__', 'count': 100, '__init__': <function Emp.__init__ at 0x0000027025F42840>, 'set_dept': <function Emp.set_dept at 0x0000027025FC2488>, 'incr_sal': <function Emp.incr_sal at 0x0000027025FC2400>, '__dict__': <attribute '__dict__' of 'Emp' objects>, '__weakref__': <attribute '__weakref__' of 'Emp' objects>, '__doc__': None}\n",
      "100\n",
      "200\n"
     ]
    }
   ],
   "source": [
    "emp1.count = 200\n",
    "print(emp1.__dict__)\n",
    "print(Emp.__dict__)\n",
    "print(Emp.count)\n",
    "print(emp1.count)"
   ]
  },
  {
   "cell_type": "code",
   "execution_count": 29,
   "metadata": {},
   "outputs": [
    {
     "name": "stdout",
     "output_type": "stream",
     "text": [
      "71500.0\n",
      "84500.0\n",
      "97500.0\n",
      "71500.0\n"
     ]
    }
   ],
   "source": [
    "for emp in Emp.emps:\n",
    "    print(emp.incr_sal()) "
   ]
  },
  {
   "cell_type": "code",
   "execution_count": 3,
   "metadata": {},
   "outputs": [
    {
     "name": "stdout",
     "output_type": "stream",
     "text": [
      "101 ABC abc@xyz.com\n"
     ]
    }
   ],
   "source": [
    "print(emp1.id,emp1.name,emp1.email)"
   ]
  },
  {
   "cell_type": "code",
   "execution_count": 4,
   "metadata": {},
   "outputs": [
    {
     "name": "stdout",
     "output_type": "stream",
     "text": [
      "102 PQR pqr@xyz.com\n"
     ]
    }
   ],
   "source": [
    "print(emp2.id,emp2.name,emp2.email)"
   ]
  },
  {
   "cell_type": "code",
   "execution_count": 6,
   "metadata": {},
   "outputs": [],
   "source": [
    "emp1.set_dept(\"HR\")\n"
   ]
  },
  {
   "cell_type": "code",
   "execution_count": 7,
   "metadata": {},
   "outputs": [
    {
     "name": "stdout",
     "output_type": "stream",
     "text": [
      "HR\n"
     ]
    }
   ],
   "source": [
    "print(emp1.dept_name)"
   ]
  },
  {
   "cell_type": "code",
   "execution_count": 8,
   "metadata": {},
   "outputs": [
    {
     "ename": "AttributeError",
     "evalue": "'Emp' object has no attribute 'dept_name'",
     "output_type": "error",
     "traceback": [
      "\u001b[1;31m---------------------------------------------------------------------------\u001b[0m",
      "\u001b[1;31mAttributeError\u001b[0m                            Traceback (most recent call last)",
      "\u001b[1;32m<ipython-input-8-7a504425bdf2>\u001b[0m in \u001b[0;36m<module>\u001b[1;34m()\u001b[0m\n\u001b[1;32m----> 1\u001b[1;33m \u001b[0mprint\u001b[0m\u001b[1;33m(\u001b[0m\u001b[0memp2\u001b[0m\u001b[1;33m.\u001b[0m\u001b[0mdept_name\u001b[0m\u001b[1;33m)\u001b[0m\u001b[1;33m\u001b[0m\u001b[0m\n\u001b[0m",
      "\u001b[1;31mAttributeError\u001b[0m: 'Emp' object has no attribute 'dept_name'"
     ]
    }
   ],
   "source": [
    "print(emp2.dept_name)"
   ]
  },
  {
   "cell_type": "code",
   "execution_count": 10,
   "metadata": {},
   "outputs": [
    {
     "name": "stdout",
     "output_type": "stream",
     "text": [
      "77000.0\n",
      "84500.0\n"
     ]
    }
   ],
   "source": [
    "print(emp1.incr_sal(40))\n",
    "print(emp2.incr_sal())\n"
   ]
  },
  {
   "cell_type": "code",
   "execution_count": null,
   "metadata": {},
   "outputs": [],
   "source": [
    "class Emp:\n",
    "   \n",
    "    def create_emp(self,emp_id,name,email,sal):\n",
    "        self.id = emp_id\n",
    "        self.name = name \n",
    "        self.email = email\n",
    "        self.sal = sal\n",
    "        \n",
    "    def set_dept(self,dept_name):\n",
    "        self.dept_name = dept_name\n",
    "\n",
    "emp1 = Emp()        \n",
    "emp1.create_emp(101,\"ABC\",\"abc@xyz.com\",55000)\n",
    "print(emp1)\n",
    "\n",
    "emp2 = Emp(102,\"PQR\",\"pqr@xyz.com\",65000)\n",
    "print(emp1)"
   ]
  },
  {
   "cell_type": "code",
   "execution_count": null,
   "metadata": {},
   "outputs": [],
   "source": [
    "Student :\n",
    "    roll no \n",
    "    name \n",
    "    marks [70,80,40,50,60]\n",
    "    \n",
    "    cal_result : per , result  per> 40 => pass else : fail\n",
    "    details of all pass student \n",
    "    details all failed students \n",
    "    \n",
    "    details topper \n",
    "        "
   ]
  },
  {
   "cell_type": "code",
   "execution_count": 48,
   "metadata": {},
   "outputs": [],
   "source": [
    "class Student:\n",
    "    students = []\n",
    "    \n",
    "    def __init__(self,roll_no,name,marks):\n",
    "        self.__roll_no = roll_no\n",
    "        self.__name = name\n",
    "        self.__marks = marks\n",
    "        Student.students.append(self)\n",
    "        \n",
    "    def get_name(self):\n",
    "        return self.__name\n",
    "    \n",
    "    def set_name(self,new_name):\n",
    "        self.__name = new_name\n",
    "    \n",
    "    def cal_result(self):\n",
    "        self.__per = sum(self.__marks) / 5\n",
    "        if self.__per > 40:\n",
    "            self.__result = \"Pass\"\n",
    "        else:\n",
    "            self.__result = \"Fail\"\n",
    "            \n",
    "    def get_per(self):\n",
    "        return self.__per\n",
    "\n",
    "    def get_result(self):\n",
    "        return self.__result\n",
    "        \n",
    "stud1 = Student(1,\"ABC\",[70,50,40,30,20])\n",
    "stud2 = Student(2,\"PQR\",[20,20,25,30,35])\n",
    "stud3 = Student(3,\"XYZ\",[70,80,80,80,90])\n",
    "stud4 = Student(4,\"RST\",[70,60,50,20,20])\n",
    "\n",
    "for stud in Student.students:\n",
    "    stud.cal_result()"
   ]
  },
  {
   "cell_type": "code",
   "execution_count": null,
   "metadata": {},
   "outputs": [],
   "source": []
  },
  {
   "cell_type": "code",
   "execution_count": 45,
   "metadata": {},
   "outputs": [
    {
     "ename": "AttributeError",
     "evalue": "'Student' object has no attribute '__roll_no'",
     "output_type": "error",
     "traceback": [
      "\u001b[1;31m---------------------------------------------------------------------------\u001b[0m",
      "\u001b[1;31mAttributeError\u001b[0m                            Traceback (most recent call last)",
      "\u001b[1;32m<ipython-input-45-d18fe281e63e>\u001b[0m in \u001b[0;36m<module>\u001b[1;34m()\u001b[0m\n\u001b[1;32m----> 1\u001b[1;33m \u001b[0mprint\u001b[0m\u001b[1;33m(\u001b[0m\u001b[0mstud1\u001b[0m\u001b[1;33m.\u001b[0m\u001b[0m__roll_no\u001b[0m\u001b[1;33m)\u001b[0m\u001b[1;33m\u001b[0m\u001b[0m\n\u001b[0m",
      "\u001b[1;31mAttributeError\u001b[0m: 'Student' object has no attribute '__roll_no'"
     ]
    }
   ],
   "source": []
  },
  {
   "cell_type": "code",
   "execution_count": 50,
   "metadata": {},
   "outputs": [
    {
     "name": "stdout",
     "output_type": "stream",
     "text": [
      "ABC 42.0\n",
      "XYZ 80.0\n",
      "RST 44.0\n"
     ]
    }
   ],
   "source": [
    "for stud in Student.students:\n",
    "    if stud.get_result() == \"Pass\":\n",
    "        print(stud.get_name(),stud.get_per())"
   ]
  },
  {
   "cell_type": "code",
   "execution_count": 46,
   "metadata": {},
   "outputs": [
    {
     "ename": "AttributeError",
     "evalue": "'Student' object has no attribute 'result'",
     "output_type": "error",
     "traceback": [
      "\u001b[1;31m---------------------------------------------------------------------------\u001b[0m",
      "\u001b[1;31mAttributeError\u001b[0m                            Traceback (most recent call last)",
      "\u001b[1;32m<ipython-input-46-3323ecd9323e>\u001b[0m in \u001b[0;36m<module>\u001b[1;34m()\u001b[0m\n\u001b[0;32m      1\u001b[0m \u001b[1;32mfor\u001b[0m \u001b[0mstud\u001b[0m \u001b[1;32min\u001b[0m \u001b[0mStudent\u001b[0m\u001b[1;33m.\u001b[0m\u001b[0mstudents\u001b[0m\u001b[1;33m:\u001b[0m\u001b[1;33m\u001b[0m\u001b[0m\n\u001b[1;32m----> 2\u001b[1;33m     \u001b[1;32mif\u001b[0m \u001b[0mstud\u001b[0m\u001b[1;33m.\u001b[0m\u001b[0mresult\u001b[0m \u001b[1;33m==\u001b[0m \u001b[1;34m\"Fail\"\u001b[0m\u001b[1;33m:\u001b[0m\u001b[1;33m\u001b[0m\u001b[0m\n\u001b[0m\u001b[0;32m      3\u001b[0m         \u001b[0mprint\u001b[0m\u001b[1;33m(\u001b[0m\u001b[0mstud\u001b[0m\u001b[1;33m.\u001b[0m\u001b[0mname\u001b[0m\u001b[1;33m,\u001b[0m\u001b[0mstud\u001b[0m\u001b[1;33m.\u001b[0m\u001b[0mper\u001b[0m\u001b[1;33m)\u001b[0m\u001b[1;33m\u001b[0m\u001b[0m\n",
      "\u001b[1;31mAttributeError\u001b[0m: 'Student' object has no attribute 'result'"
     ]
    }
   ],
   "source": [
    "for stud in Student.students:\n",
    "    if stud.result == \"Fail\":\n",
    "        print(stud.name,stud.per)"
   ]
  },
  {
   "cell_type": "code",
   "execution_count": 41,
   "metadata": {},
   "outputs": [
    {
     "name": "stdout",
     "output_type": "stream",
     "text": [
      "<__main__.Student object at 0x0000027025FDFB70>\n",
      "<__main__.Student object at 0x0000027025FDFB38>\n",
      "<__main__.Student object at 0x0000027025FDFB00>\n",
      "<__main__.Student object at 0x0000027025FDFBA8>\n",
      "XYZ 80.0\n"
     ]
    }
   ],
   "source": [
    "max = 0\n",
    "obj = None\n",
    "for stud in Student.students:\n",
    "    print(stud)\n",
    "    if stud.per > max:\n",
    "        max = stud.per\n",
    "        obj = stud        \n",
    "print(obj.name,obj.per)\n",
    " \n",
    "\n",
    "        "
   ]
  },
  {
   "cell_type": "code",
   "execution_count": 57,
   "metadata": {},
   "outputs": [
    {
     "name": "stdout",
     "output_type": "stream",
     "text": [
      "<__main__.Emp object at 0x0000027025FFF860>\n",
      "<__main__.Emp object at 0x0000027025FFF860>\n",
      "<__main__.Emp object at 0x0000027025FFF860>\n",
      "<__main__.Emp object at 0x0000027025FFF860>\n"
     ]
    }
   ],
   "source": [
    "class Emp:\n",
    "    count = 0 \n",
    "    emps = []\n",
    "    \n",
    "    @classmethod\n",
    "    def incr_count(cls):\n",
    "        cls.count +=1 \n",
    "        \n",
    "    @classmethod\n",
    "    def add_emp(cls,obj):\n",
    "        cls.emps.append(obj)\n",
    "        \n",
    "    @classmethod\n",
    "    def get_count(cls):\n",
    "        return cls.count\n",
    "    \n",
    "    @classmethod\n",
    "    def get_objects(cls):\n",
    "        return cls.emps\n",
    "    \n",
    "    @staticmethod\n",
    "    def printVal(num1,num2):\n",
    "        print(Emp.get_count())\n",
    "        print(num1,num2)\n",
    "    \n",
    "    def __init__(self,emp_id,name,email,sal):\n",
    "        self.id = emp_id\n",
    "        self.name = name \n",
    "        self.email = email\n",
    "        self.sal = sal\n",
    "        \n",
    "        Emp.incr_count()\n",
    "        Emp.add_emp(self)\n",
    "        \n",
    "    def set_dept(self,dept_name):\n",
    "        self.dept_name = dept_name\n",
    "        \n",
    "    def incr_sal(self,per = 30):\n",
    "        self.sal += (self.sal * per)/100\n",
    "        return self.sal\n",
    "\n",
    "emp1 = Emp(101,\"ABC\",\"abc@xyz.com\",55000)\n",
    "print(emp1)\n",
    "\n",
    "emp2 = Emp(102,\"PQR\",\"pqr@xyz.com\",65000)\n",
    "print(emp1)\n",
    "\n",
    "emp3 = Emp(103,\"RST\",\"pqr@xyz.com\",75000)\n",
    "print(emp1)\n",
    "\n",
    "emp4 = Emp(104,\"KKK\",\"pqr@xyz.com\",55000)\n",
    "print(emp1)"
   ]
  },
  {
   "cell_type": "code",
   "execution_count": 53,
   "metadata": {},
   "outputs": [
    {
     "name": "stdout",
     "output_type": "stream",
     "text": [
      "4\n",
      "[<__main__.Emp object at 0x0000027025FF1FD0>, <__main__.Emp object at 0x0000027025FF5048>, <__main__.Emp object at 0x0000027025FF5278>, <__main__.Emp object at 0x0000027025FF5080>]\n"
     ]
    }
   ],
   "source": [
    "print(Emp.get_count())\n",
    "print(Emp.get_objects())"
   ]
  },
  {
   "cell_type": "code",
   "execution_count": 58,
   "metadata": {},
   "outputs": [
    {
     "name": "stdout",
     "output_type": "stream",
     "text": [
      "4\n",
      "10 20\n"
     ]
    }
   ],
   "source": [
    "Emp.printVal(10,20)"
   ]
  },
  {
   "cell_type": "code",
   "execution_count": 60,
   "metadata": {},
   "outputs": [
    {
     "name": "stdout",
     "output_type": "stream",
     "text": [
      "4\n",
      "100 200\n"
     ]
    }
   ],
   "source": [
    "emp1.printVal(100,200)"
   ]
  },
  {
   "cell_type": "code",
   "execution_count": 62,
   "metadata": {},
   "outputs": [
    {
     "name": "stdout",
     "output_type": "stream",
     "text": [
      "4\n"
     ]
    }
   ],
   "source": [
    "print(emp1.get_count())\n",
    "emp1.incr_count()\n"
   ]
  },
  {
   "cell_type": "code",
   "execution_count": 63,
   "metadata": {},
   "outputs": [
    {
     "name": "stdout",
     "output_type": "stream",
     "text": [
      "5\n"
     ]
    }
   ],
   "source": [
    "print(emp1.get_count())"
   ]
  },
  {
   "cell_type": "code",
   "execution_count": 67,
   "metadata": {},
   "outputs": [
    {
     "name": "stdout",
     "output_type": "stream",
     "text": [
      "<class 'str'>\n",
      "4\n"
     ]
    }
   ],
   "source": [
    "num1 = str(\"Python\")\n",
    "print(type(num1))\n",
    "print(num1.index(\"o\"))"
   ]
  },
  {
   "cell_type": "code",
   "execution_count": null,
   "metadata": {},
   "outputs": [],
   "source": [
    "class str:\n",
    "    \n",
    "    def index(self,char):\n",
    "        \n",
    "        return index\n",
    "    "
   ]
  },
  {
   "cell_type": "code",
   "execution_count": 72,
   "metadata": {},
   "outputs": [],
   "source": [
    "class Emp:\n",
    "    count = 0 \n",
    "    emps = []\n",
    "    \n",
    "    @classmethod\n",
    "    def incr_count(cls):\n",
    "        cls.count +=1 \n",
    "        \n",
    "    @classmethod\n",
    "    def add_emp(cls,obj):\n",
    "        cls.emps.append(obj)\n",
    "        \n",
    "    @classmethod\n",
    "    def get_count(cls):\n",
    "        return cls.count\n",
    "    \n",
    "    @classmethod\n",
    "    def get_objects(cls):\n",
    "        return cls.emps\n",
    "    \n",
    "    @staticmethod\n",
    "    def printVal(num1,num2):\n",
    "        print(Emp.get_count())\n",
    "        print(num1,num2)\n",
    "    \n",
    "    def __init__(self,emp_id,name,email,sal,dept):\n",
    "        self.id = emp_id\n",
    "        self.name = name \n",
    "        self.email = email\n",
    "        self.sal = sal\n",
    "        self.dept = dept \n",
    "        \n",
    "        Emp.incr_count()\n",
    "        Emp.add_emp(self)\n",
    "        \n",
    "    def incr_sal(self,per = 30):\n",
    "        self.sal += (self.sal * per)/100\n",
    "        return self.sal\n",
    "    \n",
    "class Dept:\n",
    "    def __init__(self,id,name):\n",
    "        self.id = id\n",
    "        self.name = name \n",
    "\n"
   ]
  },
  {
   "cell_type": "code",
   "execution_count": 73,
   "metadata": {},
   "outputs": [],
   "source": [
    "dept1 = Dept(1001,\"HR\")\n",
    "dept2 = Dept(1002,\"Admin\")\n",
    "dept3 = Dept(1002,\"Sales\")\n"
   ]
  },
  {
   "cell_type": "code",
   "execution_count": 74,
   "metadata": {},
   "outputs": [
    {
     "name": "stdout",
     "output_type": "stream",
     "text": [
      "<__main__.Emp object at 0x0000027025FFF240>\n",
      "<__main__.Emp object at 0x0000027025FFF240>\n",
      "<__main__.Emp object at 0x0000027025FFF240>\n",
      "<__main__.Emp object at 0x0000027025FFF240>\n"
     ]
    }
   ],
   "source": [
    "emp1 = Emp(101,\"ABC\",\"abc@xyz.com\",55000,dept1)\n",
    "print(emp1)\n",
    "\n",
    "emp2 = Emp(102,\"PQR\",\"pqr@xyz.com\",65000,dept2)\n",
    "print(emp1)\n",
    "\n",
    "emp3 = Emp(103,\"RST\",\"pqr@xyz.com\",75000,dept3)\n",
    "print(emp1)\n",
    "\n",
    "emp4 = Emp(104,\"KKK\",\"pqr@xyz.com\",55000,dept1)\n",
    "print(emp1)"
   ]
  },
  {
   "cell_type": "markdown",
   "metadata": {},
   "source": [
    "for emp in Emp.get_objects():\n",
    "    if emp.dept.name == \"HR\":\n",
    "        print(emp.id,emp.name,emp.email)"
   ]
  },
  {
   "cell_type": "code",
   "execution_count": null,
   "metadata": {},
   "outputs": [],
   "source": [
    "M  db structure => class \n",
    "VT"
   ]
  },
  {
   "cell_type": "code",
   "execution_count": null,
   "metadata": {},
   "outputs": [],
   "source": [
    "Course :\n",
    "    id \n",
    "    title \n",
    "    author\n",
    "    catagory \n",
    "    \n",
    "Titorials :\n",
    "    id \n",
    "    title \n",
    "    content \n",
    "    course => obj course  \n",
    "\n",
    "    \n",
    "All the tutorials of author \"ABC\"\n",
    "All the tutorials in course \"Python\"\n",
    "All the tutorials of catagory \"Progarmming language\"\n",
    "\n",
    "\n",
    "\n",
    "    \n",
    "    "
   ]
  },
  {
   "cell_type": "code",
   "execution_count": null,
   "metadata": {},
   "outputs": [],
   "source": []
  }
 ],
 "metadata": {
  "kernelspec": {
   "display_name": "Python 3",
   "language": "python",
   "name": "python3"
  },
  "language_info": {
   "codemirror_mode": {
    "name": "ipython",
    "version": 3
   },
   "file_extension": ".py",
   "mimetype": "text/x-python",
   "name": "python",
   "nbconvert_exporter": "python",
   "pygments_lexer": "ipython3",
   "version": "3.6.5"
  }
 },
 "nbformat": 4,
 "nbformat_minor": 2
}
