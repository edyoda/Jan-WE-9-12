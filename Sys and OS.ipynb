{
 "cells": [
  {
   "cell_type": "code",
   "execution_count": null,
   "metadata": {},
   "outputs": [],
   "source": [
    "sys and os "
   ]
  },
  {
   "cell_type": "code",
   "execution_count": 1,
   "metadata": {},
   "outputs": [],
   "source": [
    "import sys\n",
    "import os"
   ]
  },
  {
   "cell_type": "code",
   "execution_count": 2,
   "metadata": {},
   "outputs": [
    {
     "name": "stdout",
     "output_type": "stream",
     "text": [
      "3.6.5 |Anaconda, Inc.| (default, Mar 29 2018, 13:32:41) [MSC v.1900 64 bit (AMD64)]\n"
     ]
    }
   ],
   "source": [
    "print(sys.version)"
   ]
  },
  {
   "cell_type": "code",
   "execution_count": 3,
   "metadata": {},
   "outputs": [
    {
     "name": "stdout",
     "output_type": "stream",
     "text": [
      "C:\\ProgramData\\Anaconda3\\python.exe\n"
     ]
    }
   ],
   "source": [
    "print(sys.executable)"
   ]
  },
  {
   "cell_type": "code",
   "execution_count": 4,
   "metadata": {},
   "outputs": [
    {
     "name": "stdout",
     "output_type": "stream",
     "text": [
      "win32\n"
     ]
    }
   ],
   "source": [
    "print(sys.platform)"
   ]
  },
  {
   "cell_type": "code",
   "execution_count": null,
   "metadata": {},
   "outputs": [],
   "source": [
    "import sys\n",
    "print(sys.argv)\n",
    "num1 = int(sys.argv[1])\n",
    "num2 = int(sys.argv[2])\n",
    "print(num1 + num2)"
   ]
  },
  {
   "cell_type": "code",
   "execution_count": null,
   "metadata": {},
   "outputs": [],
   "source": [
    "fp = open(\"sys_out_test.txt\",\"w\")\n",
    "sys.stdout = fp \n",
    "print(\"Hi\")\n",
    "fp.close()"
   ]
  },
  {
   "cell_type": "code",
   "execution_count": null,
   "metadata": {},
   "outputs": [],
   "source": [
    "fp = open(\"sys_err_test.txt\",\"w\")\n",
    "sys.stderr = fp \n",
    "print(\"Hi\")\n",
    "print( 10 / 0)\n",
    "fp.close()"
   ]
  },
  {
   "cell_type": "code",
   "execution_count": null,
   "metadata": {},
   "outputs": [],
   "source": [
    "\n",
    "sys.path.append(\"D:\\\\\")\n",
    "print(sys.path)\n",
    "import test_file\n"
   ]
  },
  {
   "cell_type": "code",
   "execution_count": 5,
   "metadata": {},
   "outputs": [],
   "source": [
    "import os"
   ]
  },
  {
   "cell_type": "code",
   "execution_count": 6,
   "metadata": {},
   "outputs": [
    {
     "name": "stdout",
     "output_type": "stream",
     "text": [
      "E:\\sessions Code\\JAN-M-WD-8-10\n"
     ]
    }
   ],
   "source": [
    "print(os.getcwd())"
   ]
  },
  {
   "cell_type": "code",
   "execution_count": 7,
   "metadata": {},
   "outputs": [
    {
     "name": "stdout",
     "output_type": "stream",
     "text": [
      "['.ipynb_checkpoints', 'bs1.py', 'New Text Document.txt', 'pdb_test.py', 'pkg', 'psycopg connection.ipynb', 'scripts_test.py', 'Session  11 List Comprehension Map Filter and Lambda.ipynb', 'Session 1 Basics.ipynb', 'Session 10 BeautifulSoup.ipynb', 'Session 12 Itertools and generators.ipynb', 'Session 12 OOP.ipynb', 'Session 13 Threading.ipynb', 'Session 14 Exception Handling.ipynb', 'Session 15 db access.ipynb', 'Session 16 - Threading.ipynb', 'session 16 threading1.py', 'Session 2 If Else and Loops.ipynb', 'Session 3 Str.ipynb', 'Session 4 List.ipynb', 'Session 5 Tuple and Dict.ipynb', 'Session 8 Regx.ipynb', 'Session 9 File Ops.ipynb', 'socket', 'std_err_test.txt', 'sys_out_test.txt', 'test.py', 'test1.txt', 'test2.json', 'test2.txt', 'Untitled.ipynb', 'Untitled1.ipynb', 'Untitled2.ipynb', 'Untitled3.ipynb', 'user']\n"
     ]
    }
   ],
   "source": [
    "print(os.listdir())"
   ]
  },
  {
   "cell_type": "code",
   "execution_count": 8,
   "metadata": {},
   "outputs": [],
   "source": [
    "os.mkdir(\"test_folder\")"
   ]
  },
  {
   "cell_type": "code",
   "execution_count": 9,
   "metadata": {},
   "outputs": [
    {
     "name": "stdout",
     "output_type": "stream",
     "text": [
      "['.ipynb_checkpoints', 'bs1.py', 'New Text Document.txt', 'pdb_test.py', 'pkg', 'psycopg connection.ipynb', 'scripts_test.py', 'Session  11 List Comprehension Map Filter and Lambda.ipynb', 'Session 1 Basics.ipynb', 'Session 10 BeautifulSoup.ipynb', 'Session 12 Itertools and generators.ipynb', 'Session 12 OOP.ipynb', 'Session 13 Threading.ipynb', 'Session 14 Exception Handling.ipynb', 'Session 15 db access.ipynb', 'Session 16 - Threading.ipynb', 'session 16 threading1.py', 'Session 2 If Else and Loops.ipynb', 'Session 3 Str.ipynb', 'Session 4 List.ipynb', 'Session 5 Tuple and Dict.ipynb', 'Session 8 Regx.ipynb', 'Session 9 File Ops.ipynb', 'socket', 'std_err_test.txt', 'sys_out_test.txt', 'test.py', 'test1.txt', 'test2.json', 'test2.txt', 'test_folder', 'Untitled.ipynb', 'Untitled1.ipynb', 'Untitled2.ipynb', 'Untitled3.ipynb', 'user']\n"
     ]
    }
   ],
   "source": [
    "print(os.listdir())"
   ]
  },
  {
   "cell_type": "code",
   "execution_count": 10,
   "metadata": {},
   "outputs": [
    {
     "name": "stdout",
     "output_type": "stream",
     "text": [
      "E:\\sessions Code\\JAN-M-WD-8-10\\test_folder\n"
     ]
    }
   ],
   "source": [
    "os.chdir(\"test_folder\")\n",
    "print(os.getcwd())"
   ]
  },
  {
   "cell_type": "code",
   "execution_count": 7,
   "metadata": {},
   "outputs": [
    {
     "name": "stdout",
     "output_type": "stream",
     "text": [
      "E:\\sessions Code\\JAN-M-WD-8-10\n"
     ]
    }
   ],
   "source": [
    "import os\n",
    "print(os.getcwd())"
   ]
  },
  {
   "cell_type": "code",
   "execution_count": 9,
   "metadata": {},
   "outputs": [
    {
     "data": {
      "text/plain": [
       "0"
      ]
     },
     "execution_count": 9,
     "metadata": {},
     "output_type": "execute_result"
    }
   ],
   "source": [
    "os.system(\"mkdir abc\")"
   ]
  },
  {
   "cell_type": "code",
   "execution_count": 11,
   "metadata": {},
   "outputs": [
    {
     "data": {
      "text/plain": [
       "0"
      ]
     },
     "execution_count": 11,
     "metadata": {},
     "output_type": "execute_result"
    }
   ],
   "source": [
    "# print(os.listdir())\n",
    "os.system(\"python {}\".format(\"bs1.py\"))"
   ]
  }
 ],
 "metadata": {
  "kernelspec": {
   "display_name": "Python 3",
   "language": "python",
   "name": "python3"
  },
  "language_info": {
   "codemirror_mode": {
    "name": "ipython",
    "version": 3
   },
   "file_extension": ".py",
   "mimetype": "text/x-python",
   "name": "python",
   "nbconvert_exporter": "python",
   "pygments_lexer": "ipython3",
   "version": "3.6.5"
  }
 },
 "nbformat": 4,
 "nbformat_minor": 2
}
