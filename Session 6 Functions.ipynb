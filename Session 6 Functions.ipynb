{
 "cells": [
  {
   "cell_type": "code",
   "execution_count": null,
   "metadata": {},
   "outputs": [],
   "source": [
    "fun def \n",
    "func call \n",
    "\n",
    "def func_name(args):\n",
    "    func logic \n",
    "    \n",
    "func_name(args)"
   ]
  },
  {
   "cell_type": "code",
   "execution_count": null,
   "metadata": {},
   "outputs": [],
   "source": [
    "Parameter Passing Techniques :\n",
    "    1 Positional args\n",
    "    2 Default args \n",
    "    3 Variable length positional *args => tuple = >packing \n",
    "    4 keyword args \n",
    "    5 Varaible length keyword args => dict packing \n",
    "    6 Unpacking list/str/tuple/set => positional args , dict => keyword args "
   ]
  },
  {
   "cell_type": "code",
   "execution_count": 4,
   "metadata": {},
   "outputs": [
    {
     "name": "stdout",
     "output_type": "stream",
     "text": [
      "600\n"
     ]
    },
    {
     "ename": "TypeError",
     "evalue": "add() missing 2 required positional arguments: 'num2' and 'num3'",
     "output_type": "error",
     "traceback": [
      "\u001b[1;31m---------------------------------------------------------------------------\u001b[0m",
      "\u001b[1;31mTypeError\u001b[0m                                 Traceback (most recent call last)",
      "\u001b[1;32m<ipython-input-4-806cfe4008cb>\u001b[0m in \u001b[0;36m<module>\u001b[1;34m()\u001b[0m\n\u001b[0;32m      3\u001b[0m \u001b[1;33m\u001b[0m\u001b[0m\n\u001b[0;32m      4\u001b[0m \u001b[0mprint\u001b[0m\u001b[1;33m(\u001b[0m\u001b[0madd\u001b[0m\u001b[1;33m(\u001b[0m\u001b[1;36m100\u001b[0m\u001b[1;33m,\u001b[0m\u001b[1;36m200\u001b[0m\u001b[1;33m,\u001b[0m\u001b[1;36m300\u001b[0m\u001b[1;33m)\u001b[0m\u001b[1;33m)\u001b[0m\u001b[1;33m\u001b[0m\u001b[0m\n\u001b[1;32m----> 5\u001b[1;33m \u001b[0mprint\u001b[0m\u001b[1;33m(\u001b[0m\u001b[0madd\u001b[0m\u001b[1;33m(\u001b[0m\u001b[1;36m100\u001b[0m\u001b[1;33m)\u001b[0m\u001b[1;33m)\u001b[0m\u001b[1;33m\u001b[0m\u001b[0m\n\u001b[0m",
      "\u001b[1;31mTypeError\u001b[0m: add() missing 2 required positional arguments: 'num2' and 'num3'"
     ]
    }
   ],
   "source": [
    "def add(num1,num2,num3):\n",
    "    return num1 + num2 + num3\n",
    "\n",
    "print(add(100,200,300))\n",
    "\n"
   ]
  },
  {
   "cell_type": "code",
   "execution_count": null,
   "metadata": {},
   "outputs": [],
   "source": []
  },
  {
   "cell_type": "code",
   "execution_count": 12,
   "metadata": {},
   "outputs": [
    {
     "name": "stdout",
     "output_type": "stream",
     "text": [
      "100 200 300\n",
      "600\n"
     ]
    },
    {
     "ename": "TypeError",
     "evalue": "add() takes from 0 to 3 positional arguments but 5 were given",
     "output_type": "error",
     "traceback": [
      "\u001b[1;31m---------------------------------------------------------------------------\u001b[0m",
      "\u001b[1;31mTypeError\u001b[0m                                 Traceback (most recent call last)",
      "\u001b[1;32m<ipython-input-12-6fd2b45f39a1>\u001b[0m in \u001b[0;36m<module>\u001b[1;34m()\u001b[0m\n\u001b[0;32m      4\u001b[0m \u001b[1;33m\u001b[0m\u001b[0m\n\u001b[0;32m      5\u001b[0m \u001b[0mprint\u001b[0m\u001b[1;33m(\u001b[0m\u001b[0madd\u001b[0m\u001b[1;33m(\u001b[0m\u001b[1;36m100\u001b[0m\u001b[1;33m,\u001b[0m\u001b[1;36m200\u001b[0m\u001b[1;33m,\u001b[0m\u001b[1;36m300\u001b[0m\u001b[1;33m)\u001b[0m\u001b[1;33m)\u001b[0m\u001b[1;33m\u001b[0m\u001b[0m\n\u001b[1;32m----> 6\u001b[1;33m \u001b[0mprint\u001b[0m\u001b[1;33m(\u001b[0m\u001b[0madd\u001b[0m\u001b[1;33m(\u001b[0m\u001b[1;36m50\u001b[0m\u001b[1;33m,\u001b[0m\u001b[1;36m20\u001b[0m\u001b[1;33m,\u001b[0m\u001b[1;36m30\u001b[0m\u001b[1;33m,\u001b[0m\u001b[1;36m40\u001b[0m\u001b[1;33m,\u001b[0m\u001b[1;36m50\u001b[0m\u001b[1;33m)\u001b[0m\u001b[1;33m)\u001b[0m\u001b[1;33m\u001b[0m\u001b[0m\n\u001b[0m",
      "\u001b[1;31mTypeError\u001b[0m: add() takes from 0 to 3 positional arguments but 5 were given"
     ]
    }
   ],
   "source": [
    "def add(num1=0,num2= 0,num3 = 0):\n",
    "    print(num1,num2,num3)\n",
    "    return num1 + num2 + num3\n",
    "\n",
    "print(add(100,200,300))\n",
    "print(add(50,20,30,40,50))"
   ]
  },
  {
   "cell_type": "code",
   "execution_count": null,
   "metadata": {},
   "outputs": [],
   "source": []
  },
  {
   "cell_type": "code",
   "execution_count": 10,
   "metadata": {},
   "outputs": [
    {
     "name": "stdout",
     "output_type": "stream",
     "text": [
      "10 Hi\n"
     ]
    }
   ],
   "source": [
    "print(10,end =\" \")\n",
    "print(\"Hi\")"
   ]
  },
  {
   "cell_type": "code",
   "execution_count": 11,
   "metadata": {},
   "outputs": [
    {
     "name": "stdout",
     "output_type": "stream",
     "text": [
      "Help on built-in function print in module builtins:\n",
      "\n",
      "print(...)\n",
      "    print(value, ..., sep=' ', end='\\n', file=sys.stdout, flush=False)\n",
      "    \n",
      "    Prints the values to a stream, or to sys.stdout by default.\n",
      "    Optional keyword arguments:\n",
      "    file:  a file-like object (stream); defaults to the current sys.stdout.\n",
      "    sep:   string inserted between values, default a space.\n",
      "    end:   string appended after the last value, default a newline.\n",
      "    flush: whether to forcibly flush the stream.\n",
      "\n"
     ]
    }
   ],
   "source": [
    "help(print)"
   ]
  },
  {
   "cell_type": "code",
   "execution_count": 16,
   "metadata": {},
   "outputs": [
    {
     "name": "stdout",
     "output_type": "stream",
     "text": [
      "(100, 200, 300)\n",
      "600\n",
      "(50, 20, 30, 40, 50, 60, 70)\n",
      "320\n",
      "(50, 20, 30, 40, 50, 60, 70, 100, 200)\n",
      "620\n",
      "()\n",
      "0\n"
     ]
    }
   ],
   "source": [
    "def add(*args):\n",
    "    print(args)\n",
    "    return sum(args)\n",
    "\n",
    "print(add(100,200,300))\n",
    "print(add(50,20,30,40,50,60,70))\n",
    "print(add(50,20,30,40,50,60,70,100,200))\n",
    "print(add())"
   ]
  },
  {
   "cell_type": "code",
   "execution_count": 25,
   "metadata": {},
   "outputs": [
    {
     "name": "stdout",
     "output_type": "stream",
     "text": [
      "[444, 888, 1332, 1776, 2220]\n"
     ]
    }
   ],
   "source": [
    "def add(*args):\n",
    "    result = []\n",
    "    for index in range(len(args[0])):\n",
    "        sum = 0 \n",
    "        for value in args:\n",
    "            sum = sum + value[index]\n",
    "        result.append(sum)\n",
    "    return result\n",
    "\n",
    "l1 = [1,2,3,4,5]\n",
    "l2 = [10,20,30,40,50]\n",
    "l3 = [100,200,300,400,500]\n",
    "l4 = add(l1,l2,l3)\n",
    "# print(l4)\n",
    "l5 = add(l1,l2,l3,l4)\n",
    "l6 = add(l1,l2,l3,l4,l5)\n",
    "print(l6)\n",
    "\n",
    "\n"
   ]
  },
  {
   "cell_type": "code",
   "execution_count": 27,
   "metadata": {},
   "outputs": [
    {
     "name": "stdout",
     "output_type": "stream",
     "text": [
      "[(10, 100, 100), (20, 200, 200), (30, 300, 300), (40, 400, 400)]\n"
     ]
    }
   ],
   "source": [
    "l1 = [10,20,30,40]\n",
    "l2 = [100,200,300,400,500]\n",
    "l3 = [100,200,300,400,500]\n",
    "print(list(zip(l1,l2,l3)))"
   ]
  },
  {
   "cell_type": "code",
   "execution_count": 29,
   "metadata": {},
   "outputs": [
    {
     "name": "stdout",
     "output_type": "stream",
     "text": [
      "[111, 222, 333, 444, 555]\n"
     ]
    }
   ],
   "source": [
    "def add(l1,l2,l3):\n",
    "    result = []\n",
    "    for value in zip(l1,l2,l3):\n",
    "        result.append(sum(value))\n",
    "    return result\n",
    "\n",
    "\n",
    "l1 = [1,2,3,4,5]\n",
    "l2 = [10,20,30,40,50]\n",
    "l3 = [100,200,300,400,500]\n",
    "l4 = add(l1,l2,l3)\n",
    "print(l4)"
   ]
  },
  {
   "cell_type": "code",
   "execution_count": 42,
   "metadata": {},
   "outputs": [
    {
     "ename": "TypeError",
     "evalue": "user_auth() missing 2 required keyword-only arguments: 'username' and 'password'",
     "output_type": "error",
     "traceback": [
      "\u001b[1;31m---------------------------------------------------------------------------\u001b[0m",
      "\u001b[1;31mTypeError\u001b[0m                                 Traceback (most recent call last)",
      "\u001b[1;32m<ipython-input-42-6ce0f7fbd82e>\u001b[0m in \u001b[0;36m<module>\u001b[1;34m()\u001b[0m\n\u001b[0;32m      6\u001b[0m         \u001b[0mprint\u001b[0m\u001b[1;33m(\u001b[0m\u001b[1;34m\"Invalid\"\u001b[0m\u001b[1;33m)\u001b[0m\u001b[1;33m\u001b[0m\u001b[0m\n\u001b[0;32m      7\u001b[0m \u001b[1;33m\u001b[0m\u001b[0m\n\u001b[1;32m----> 8\u001b[1;33m \u001b[0muser_auth\u001b[0m\u001b[1;33m(\u001b[0m\u001b[1;36m100\u001b[0m\u001b[1;33m,\u001b[0m\u001b[1;36m200\u001b[0m\u001b[1;33m,\u001b[0m\u001b[1;34m\"abc\"\u001b[0m\u001b[1;33m,\u001b[0m\u001b[1;34m\"abc@123\"\u001b[0m\u001b[1;33m)\u001b[0m\u001b[1;33m\u001b[0m\u001b[0m\n\u001b[0m\u001b[0;32m      9\u001b[0m \u001b[1;31m# user_auth(100 , 200, password= \"abc@123\", username = \"abc\")\u001b[0m\u001b[1;33m\u001b[0m\u001b[1;33m\u001b[0m\u001b[0m\n",
      "\u001b[1;31mTypeError\u001b[0m: user_auth() missing 2 required keyword-only arguments: 'username' and 'password'"
     ]
    }
   ],
   "source": [
    "def user_auth(*args,username,password):\n",
    "    print(args,username,password)\n",
    "    if username ==\"abc\" and password ==\"abc@123\":\n",
    "        print(\"Valid\")\n",
    "    else:\n",
    "        print(\"Invalid\")\n",
    "        \n",
    "user_auth(100,200,username=\"abc\",password=\"abc@123\")\n",
    "# user_auth(100 , 200, password= \"abc@123\", username = \"abc\")"
   ]
  },
  {
   "cell_type": "code",
   "execution_count": 33,
   "metadata": {},
   "outputs": [
    {
     "name": "stdout",
     "output_type": "stream",
     "text": [
      "10,20 Hello\n"
     ]
    }
   ],
   "source": [
    "print(10,20,sep = \",\",end = \" \")\n",
    "print(\"Hello\")"
   ]
  },
  {
   "cell_type": "code",
   "execution_count": 48,
   "metadata": {},
   "outputs": [
    {
     "name": "stdout",
     "output_type": "stream",
     "text": [
      "() {'name': 'abc', 'email': 'abc@gmail.com', 'contact': '912345678'}\n",
      "() {'name': 'abc', 'email': 'abc@gmail.com'}\n",
      "() {'name': 'abc', 'contact': '912345678'}\n"
     ]
    }
   ],
   "source": [
    "def user_deatil(*args,**kwargs):\n",
    "    print(args,kwargs)\n",
    "\n",
    "user_deatil(name = \"abc\",email = \"abc@gmail.com\",contact= \"912345678\")\n",
    "user_deatil(name = \"abc\",email = \"abc@gmail.com\")\n",
    "user_deatil(name = \"abc\",contact= \"912345678\")"
   ]
  },
  {
   "cell_type": "code",
   "execution_count": 56,
   "metadata": {},
   "outputs": [
    {
     "name": "stdout",
     "output_type": "stream",
     "text": [
      "10 20 30\n",
      "10 20 30\n"
     ]
    }
   ],
   "source": [
    "def add(num1,num2,num3):\n",
    "    print(num1,num2,num3)\n",
    "    \n",
    "l = {10,20,30}\n",
    "add(*l)\n",
    "\n",
    "d = {\"num3\":30,\"num2\":20,\"num1\":10}\n",
    "add(**d)"
   ]
  },
  {
   "cell_type": "code",
   "execution_count": null,
   "metadata": {},
   "outputs": [],
   "source": [
    "fact(5) 5 * 4!\n",
    "            4 * 3 ! \n",
    "                 3 * 2!\n",
    "                     2 * 1! \n",
    "                        1 "
   ]
  },
  {
   "cell_type": "code",
   "execution_count": 58,
   "metadata": {},
   "outputs": [
    {
     "data": {
      "text/plain": [
       "120"
      ]
     },
     "execution_count": 58,
     "metadata": {},
     "output_type": "execute_result"
    }
   ],
   "source": [
    "def fact(num):\n",
    "    if num == 1:\n",
    "        return 1\n",
    "    else:\n",
    "        return num * fact(num - 1)\n",
    "\n",
    "fact(5)"
   ]
  },
  {
   "cell_type": "code",
   "execution_count": null,
   "metadata": {},
   "outputs": [],
   "source": [
    "fact(5):\n",
    "    return 5 * 24 = 120\n",
    "        return 4 * 6 = 24 \n",
    "            return 3 * 2 = 6  \n",
    "                return 2 * 1 = 2 \n",
    "                    return 1"
   ]
  },
  {
   "cell_type": "code",
   "execution_count": 65,
   "metadata": {},
   "outputs": [
    {
     "name": "stdout",
     "output_type": "stream",
     "text": [
      "False\n"
     ]
    }
   ],
   "source": [
    "def binary_search(l,key):\n",
    "    if l:        \n",
    "        mid = len(l) // 2    \n",
    "        if key == l[mid]:\n",
    "            return True\n",
    "        elif key < l[mid]:\n",
    "            return binary_search(l[:mid],key)    \n",
    "        else:\n",
    "            return binary_search(l[mid+1:],key)\n",
    "\n",
    "    else:\n",
    "        return False\n",
    "    \n",
    "l = [10,20,30,40,50,60,70,80]\n",
    "l.sort()\n",
    "key = 100\n",
    "print(binary_search(l,key))\n",
    "# ctrl /"
   ]
  },
  {
   "cell_type": "code",
   "execution_count": null,
   "metadata": {},
   "outputs": [],
   "source": [
    "mid = len(l) / 2 \n",
    "mid == key \n",
    "    return True \n",
    "if key < mid \n",
    "\n",
    "if key > mid \n",
    "      l = [60,70,80]\n",
    "      key = 60\n",
    "      \n",
    "    mid  = 70 == 60 \n",
    "    \n",
    "    if key < mid \n",
    "         [60] 60 \n",
    "         return True\n",
    "        \n",
    "    if key > mid "
   ]
  }
 ],
 "metadata": {
  "kernelspec": {
   "display_name": "Python 3",
   "language": "python",
   "name": "python3"
  },
  "language_info": {
   "codemirror_mode": {
    "name": "ipython",
    "version": 3
   },
   "file_extension": ".py",
   "mimetype": "text/x-python",
   "name": "python",
   "nbconvert_exporter": "python",
   "pygments_lexer": "ipython3",
   "version": "3.6.5"
  }
 },
 "nbformat": 4,
 "nbformat_minor": 2
}
