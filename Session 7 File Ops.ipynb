{
 "cells": [
  {
   "cell_type": "code",
   "execution_count": null,
   "metadata": {},
   "outputs": [],
   "source": [
    "Modes os opening a file :\n",
    "    1 read 'r'\n",
    "    2 r+\n",
    "    3 write w\n",
    "    4 w+ \n",
    "    5 append a\n",
    "    6  a+"
   ]
  },
  {
   "cell_type": "code",
   "execution_count": 1,
   "metadata": {},
   "outputs": [],
   "source": [
    "fp = open(\"test.txt\",\"r\")\n",
    "fp.close()"
   ]
  },
  {
   "cell_type": "code",
   "execution_count": 39,
   "metadata": {},
   "outputs": [
    {
     "name": "stdout",
     "output_type": "stream",
     "text": [
      "PEP 538: Legacy C Locale Coercion\n",
      "\n",
      "An ongoing challenge within the Python 3 series has been determining a sensible default strategy for handling the “7-bit ASCII” text encoding assumption currently implied by the use of the default C or POSIX locale on non-Windows platforms.\n",
      "\n",
      "\n",
      "\n",
      "PEP 538 updates the default interpreter command line interface to automatically coerce that locale to an available UTF-8 based locale as described in the documentation of the new PYTHONCOERCECLOCALE environment variable. Automatically setting LC_CTYPE this way means that both the core interpreter and locale-aware C extensions (such as readline) will assume the use of UTF-8 as the default text encoding, rather than ASCII.\n",
      "\n",
      "\n",
      "\n",
      "The platform support definition in PEP 11 has also been updated to limit full text handling support to suitably configured non-ASCII based locales.\n",
      "\n",
      "\n",
      "\n",
      "As part of this change, the default error handler for stdin and stdout is now surrogateescape (rather than strict) when using any of the defined coercion target locales (currently C.UTF-8, C.utf8, and UTF-8). The default error handler for stderr continues to be backslashreplace, regardless of locale.\n",
      "\n",
      "\n",
      "\n",
      "Locale coercion is silent by default, but to assist in debugging potentially locale related integration problems, explicit warnings (emitted directly on stderr) can be requested by setting PYTHONCOERCECLOCALE=warn. This setting will also cause the Python runtime to emit a warning if the legacy C locale remains active when the core interpreter is initialized.\n",
      "\n",
      "\n",
      "\n",
      "While PEP 538’s locale coercion has the benefit of also affecting extension modules (such as GNU readline), as well as child processes (including those running non-Python applications and older versions of Python), it has the downside of requiring that a suitable target locale be present on the running system. To better handle the case where no suitable target locale is available (as occurs on RHEL/CentOS 7, for example), Python 3.7 also implements PEP 540: Forced UTF-8 Runtime Mode.\n",
      "\n",
      "\n",
      "\n",
      "See also\n",
      "\n",
      "PEP 538 – Coercing the legacy C locale to a UTF-8 based locale\n",
      "\n",
      "PEP written and implemented by Nick Coghlan.\n",
      "\n",
      "PEP 540: Forced UTF-8 Runtime Mode\n",
      "\n",
      "The new -X utf8 command line option and PYTHONUTF8 environment variable can be used to enable the CPython UTF-8 mode.\n",
      "\n",
      "\n",
      "\n",
      "When in UTF-8 mode, CPython ignores the locale settings, and uses the UTF-8 encoding by default. The error handlers for sys.stdin and sys.stdout streams are set to surrogateescape.\n",
      "\n",
      "\n",
      "\n",
      "The forced UTF-8 mode can be used to change the text handling behavior in an embedded Python interpreter without changing the locale settings of an embedding application.\n",
      "\n",
      "\n",
      "\n",
      "While PEP 540’s UTF-8 mode has the benefit of working regardless of which locales are available on the running system, it has the downside of having no effect on extension modules (such as GNU readline), child processes running non-Python applications, and child processes running older versions of Python. To reduce the risk of corrupting text data when communicating with such components, Python 3.7 also implements PEP 540: Forced UTF-8 Runtime Mode).\n",
      "\n",
      "\n",
      "\n",
      "The UTF-8 mode is enabled by default when the locale is C or POSIX, and the PEP 538 locale coercion feature fails to change it to a UTF-8 based alternative (whether that failure is due to PYTHONCOERCECLOCALE=0 being set, LC_ALL being set, or the lack of a suitable target locale).\n"
     ]
    }
   ],
   "source": [
    "fp = open(\"test.txt\",\"r\",encoding='utf-8')\n",
    "for x in fp:\n",
    "    print(x)\n",
    "fp.close()"
   ]
  },
  {
   "cell_type": "code",
   "execution_count": 9,
   "metadata": {},
   "outputs": [
    {
     "name": "stdout",
     "output_type": "stream",
     "text": [
      "PEP 538: Legacy C Locale Coerc\n"
     ]
    }
   ],
   "source": [
    "fp = open(\"test.txt\",\"r\",encoding='utf-8')\n",
    "content = fp.read(30)\n",
    "print(content)\n",
    "\n",
    "fp.close()"
   ]
  },
  {
   "cell_type": "code",
   "execution_count": 13,
   "metadata": {},
   "outputs": [
    {
     "name": "stdout",
     "output_type": "stream",
     "text": [
      "PEP 538: Legacy C Locale Coercion\n",
      "\n",
      "An ongoing challenge within the Python 3 series has been determining a sensible default strategy for handling the “7-bit ASCII” text encoding assumption currently implied by the use of the default C or POSIX locale on non-Windows platforms.\n",
      "\n"
     ]
    }
   ],
   "source": [
    "fp = open(\"test.txt\",\"r\",encoding='utf-8')\n",
    "content = fp.readline()\n",
    "print(content)\n",
    "\n",
    "content = fp.readline()\n",
    "print(content)\n",
    "fp.close()"
   ]
  },
  {
   "cell_type": "code",
   "execution_count": 20,
   "metadata": {},
   "outputs": [
    {
     "name": "stdout",
     "output_type": "stream",
     "text": [
      "['PEP 538: Legacy C Locale Coercion\\n', 'An ongoing challenge within the Python 3 series has been determining a sensible default strategy for handling the “7-bit ASCII” text encoding assumption currently implied by the use of the default C or POSIX locale on non-Windows platforms.\\n', '\\n', 'PEP 538 updates the default interpreter command line interface to automatically coerce that locale to an available UTF-8 based locale as described in the documentation of the new PYTHONCOERCECLOCALE environment variable. Automatically setting LC_CTYPE this way means that both the core interpreter and locale-aware C extensions (such as readline) will assume the use of UTF-8 as the default text encoding, rather than ASCII.\\n', '\\n', 'The platform support definition in PEP 11 has also been updated to limit full text handling support to suitably configured non-ASCII based locales.\\n', '\\n', 'As part of this change, the default error handler for stdin and stdout is now surrogateescape (rather than strict) when using any of the defined coercion target locales (currently C.UTF-8, C.utf8, and UTF-8). The default error handler for stderr continues to be backslashreplace, regardless of locale.\\n', '\\n', 'Locale coercion is silent by default, but to assist in debugging potentially locale related integration problems, explicit warnings (emitted directly on stderr) can be requested by setting PYTHONCOERCECLOCALE=warn. This setting will also cause the Python runtime to emit a warning if the legacy C locale remains active when the core interpreter is initialized.\\n', '\\n', 'While PEP 538’s locale coercion has the benefit of also affecting extension modules (such as GNU readline), as well as child processes (including those running non-Python applications and older versions of Python), it has the downside of requiring that a suitable target locale be present on the running system. To better handle the case where no suitable target locale is available (as occurs on RHEL/CentOS 7, for example), Python 3.7 also implements PEP 540: Forced UTF-8 Runtime Mode.\\n', '\\n', 'See also\\n', 'PEP 538 – Coercing the legacy C locale to a UTF-8 based locale\\n', 'PEP written and implemented by Nick Coghlan.\\n', 'PEP 540: Forced UTF-8 Runtime Mode\\n', 'The new -X utf8 command line option and PYTHONUTF8 environment variable can be used to enable the CPython UTF-8 mode.\\n', '\\n', 'When in UTF-8 mode, CPython ignores the locale settings, and uses the UTF-8 encoding by default. The error handlers for sys.stdin and sys.stdout streams are set to surrogateescape.\\n', '\\n', 'The forced UTF-8 mode can be used to change the text handling behavior in an embedded Python interpreter without changing the locale settings of an embedding application.\\n', '\\n', 'While PEP 540’s UTF-8 mode has the benefit of working regardless of which locales are available on the running system, it has the downside of having no effect on extension modules (such as GNU readline), child processes running non-Python applications, and child processes running older versions of Python. To reduce the risk of corrupting text data when communicating with such components, Python 3.7 also implements PEP 540: Forced UTF-8 Runtime Mode).\\n', '\\n', 'The UTF-8 mode is enabled by default when the locale is C or POSIX, and the PEP 538 locale coercion feature fails to change it to a UTF-8 based alternative (whether that failure is due to PYTHONCOERCECLOCALE=0 being set, LC_ALL being set, or the lack of a suitable target locale).']\n"
     ]
    }
   ],
   "source": [
    "fp = open(\"test.txt\",\"r\",encoding='utf-8')\n",
    "content = fp.readlines()\n",
    "print(content)\n",
    "fp.close()"
   ]
  },
  {
   "cell_type": "code",
   "execution_count": 28,
   "metadata": {
    "scrolled": true
   },
   "outputs": [
    {
     "name": "stdout",
     "output_type": "stream",
     "text": [
      "0\n",
      "91\n",
      "0\n",
      "New line for write mode line1\n",
      "New line for write mode line2\n",
      "New line for write mode line3\n"
     ]
    }
   ],
   "source": [
    "fp = open(\"test1.txt\",\"w+\")\n",
    "print(fp.tell())\n",
    "fp.write(\"New line for write mode line1\")\n",
    "fp.write(\"\\nNew line for write mode line2\")\n",
    "fp.write(\"\\nNew line for write mode line3\")\n",
    "print(fp.tell())\n",
    "fp.seek(0,0)\n",
    "print(fp.tell())\n",
    "\n",
    "content = fp.read()\n",
    "print(content)\n",
    "fp.close()"
   ]
  },
  {
   "cell_type": "code",
   "execution_count": null,
   "metadata": {},
   "outputs": [],
   "source": []
  },
  {
   "cell_type": "code",
   "execution_count": null,
   "metadata": {},
   "outputs": [],
   "source": [
    "tell()\n",
    "seek(offset,position)\n",
    "\n",
    "0 : start of the file \n",
    "1 : current position \n",
    "2 : end of the file \n",
    "    \n",
    "seek(15,0)\n",
    "seek(0,2)\n",
    "seek(0,0)\n",
    "seek(0,2)"
   ]
  },
  {
   "cell_type": "code",
   "execution_count": 31,
   "metadata": {},
   "outputs": [
    {
     "name": "stdout",
     "output_type": "stream",
     "text": [
      "0\n",
      "91\n"
     ]
    }
   ],
   "source": [
    "fp = open(\"test1.txt\",\"r+\")\n",
    "print(fp.tell())\n",
    "fp.seek(0,2)\n",
    "print(fp.tell())\n",
    "fp.write(\"\\n********\")\n",
    "# fp.write(\"\\nNew line for write mode line2\")\n",
    "# fp.write(\"\\nNew line for write mode line3\")\n",
    "# print(fp.tell())\n",
    "# fp.seek(0,0)\n",
    "# print(fp.tell())\n",
    "\n",
    "# content = fp.read()\n",
    "# print(content)\n",
    "fp.close()"
   ]
  },
  {
   "cell_type": "code",
   "execution_count": 35,
   "metadata": {},
   "outputs": [
    {
     "name": "stdout",
     "output_type": "stream",
     "text": [
      "123\n",
      "******** for write mode line1\n",
      "New line for write mode line2\n",
      "New line for write mode line3\n",
      "********\n",
      "Wrire in append mode\n",
      "Write in append mode\n"
     ]
    }
   ],
   "source": [
    "fp = open(\"test1.txt\",\"a+\")\n",
    "print(fp.tell())\n",
    "fp.write(\"\\nWrite in append mode\")\n",
    "fp.seek(0,0)\n",
    "content = fp.read()\n",
    "print(content)\n",
    "fp.close()"
   ]
  },
  {
   "cell_type": "code",
   "execution_count": null,
   "metadata": {},
   "outputs": [],
   "source": [
    "r => fp = 0 ,file does not exist => error, read \n",
    "r+ => fp =0 ,file does not exist => error ,read + write\n",
    "\n",
    "w => fp = 0, craete new file,write\n",
    "w+=> fp = 0 ,create new file ,write + read \n",
    "\n",
    "a => fp = EOF,create new file ,write at the end\n",
    "a+ => fp = EOF,create new file , write + read \n",
    "\n",
    "seek(offset,position)\n",
    "0 start \n",
    "1 current \n",
    "2 end of the file \n",
    "\n",
    "\n",
    "tell()"
   ]
  },
  {
   "cell_type": "code",
   "execution_count": null,
   "metadata": {},
   "outputs": [],
   "source": [
    "input.txt\n",
    "ABC 5,5,4,4,4\n",
    "PQR 4,4,4,4,2\n",
    "XYZ 2,2,2,2,2\n",
    "\n",
    "output.txt\n",
    "ABC 4.5\n",
    "PQR 4.2\n",
    "XYZ 2"
   ]
  },
  {
   "cell_type": "code",
   "execution_count": 49,
   "metadata": {},
   "outputs": [],
   "source": [
    "fp = open(\"input.txt\",\"r\")\n",
    "fp1 = open(\"output.txt\",\"w\")\n",
    "for review in fp:\n",
    "    review_list = review.split(\" \")\n",
    "    ratings = review_list[1].split(\",\")\n",
    "    sum = 0 \n",
    "    for value in ratings:\n",
    "        sum = sum + int(value)\n",
    "    fp1.write(\"{} {}\\n\".format(review_list[0],sum/5))\n",
    "fp.close()\n",
    "fp1.close()"
   ]
  },
  {
   "cell_type": "code",
   "execution_count": 47,
   "metadata": {},
   "outputs": [
    {
     "name": "stdout",
     "output_type": "stream",
     "text": [
      "5\n"
     ]
    }
   ],
   "source": [
    "s = \"5\\n\"\n",
    "print(int(s))"
   ]
  },
  {
   "cell_type": "code",
   "execution_count": 52,
   "metadata": {},
   "outputs": [
    {
     "name": "stdout",
     "output_type": "stream",
     "text": [
      "\n",
      "\n",
      " ABC 5,5,4,4,4\n",
      "\n",
      " XYZ 5,5,4,4,4\n",
      "\n",
      " RST 5,5,4,4,4\n"
     ]
    }
   ],
   "source": [
    "fp = open(\"input2.txt\",\"w+\")\n",
    "fp.write(\"\\n ABC 5,5,4,4,4\")\n",
    "fp.write(\"\\n XYZ 5,5,4,4,4\")\n",
    "fp.write(\"\\n RST 5,5,4,4,4\")\n",
    "fp.seek(0,0)\n",
    "\n",
    "for line in fp:\n",
    "    print(line)\n",
    "fp.close()"
   ]
  },
  {
   "cell_type": "markdown",
   "metadata": {},
   "source": [
    "JSON                   Python \n",
    "\n",
    "str \"\"                 '' \"\" \"\"\" \"\"\"\n",
    "number 45,12.555       int  float \n",
    "array [10,20,30,\"python\"] list \n",
    "object {\"key\":\"value\"}  dict \n",
    "                        tuple\n",
    "                        set\n",
    "true,false              True ,False "
   ]
  },
  {
   "cell_type": "code",
   "execution_count": 70,
   "metadata": {},
   "outputs": [
    {
     "name": "stdout",
     "output_type": "stream",
     "text": [
      "{'glossary': {'title': 'example glossary', 'GlossDiv': {'title': 'S', 'GlossList': {'GlossEntry': {'ID': 'SGML', 'SortAs': 'SGML', 'GlossTerm': 'Standard Generalized Markup Language', 'Acronym': 'SGML', 'Abbrev': 'ISO 8879:1986', 'GlossDef': {'para': 'A meta-markup language, used to create markup languages such as DocBook.', 'GlossSeeAlso': ['GML', 'XML']}, 'GlossSee': 'markup'}}}}}\n"
     ]
    }
   ],
   "source": [
    "import json \n",
    "fp = open(\"test1.json\",\"r\")\n",
    "d = json.load(fp)\n",
    "print(d)\n",
    "\n",
    "d['glossary']['title'] = \"New title for JSON file\"\n",
    "# print(d['glossary']['GlossDiv']['GlossList']['GlossEntry']['ID'])\n",
    "d['glossary']['GlossDiv']['GlossList']['GlossEntry']['ID'] = (\"SGML\",\"HTML\")\n",
    "\n",
    "fp1 = open(\"test3.json\",\"w\")\n",
    "j = json.dump(d,fp1,indent=4)\n",
    "fp1.close()\n",
    "\n"
   ]
  },
  {
   "cell_type": "code",
   "execution_count": null,
   "metadata": {},
   "outputs": [],
   "source": []
  },
  {
   "cell_type": "code",
   "execution_count": null,
   "metadata": {},
   "outputs": [],
   "source": [
    "import json \n",
    "fp = open(\"test1.json\",\"r\")\n",
    "content = fp.read()\n",
    "fp.close()\n",
    "# d = json.loads(content)\n",
    "# print(d['glossary']['title'])\n",
    "# d['glossary']['title'] = \"New title for JSON file\"\n",
    "# # print(d['glossary']['GlossDiv']['GlossList']['GlossEntry']['ID'])\n",
    "# d['glossary']['GlossDiv']['GlossList']['GlossEntry']['ID'] = (\"SGML\",\"HTML\")\n",
    "\n",
    "# j = json.dumps(d,indent=4)\n",
    "# print(j)\n",
    "\n",
    "# fp1 = open(\"test2.json\",\"w\")\n",
    "# fp1.write(j)\n",
    "# fp1.close()"
   ]
  },
  {
   "cell_type": "code",
   "execution_count": null,
   "metadata": {},
   "outputs": [],
   "source": [
    "pip install xmltodict"
   ]
  },
  {
   "cell_type": "code",
   "execution_count": null,
   "metadata": {},
   "outputs": [],
   "source": [
    "<note>\n",
    "    <to id=\"1\">ABC</to>\n",
    "    <from>PQR</from>\n",
    "    <msg>session at 9</msg>\n",
    "</note>"
   ]
  },
  {
   "cell_type": "code",
   "execution_count": 79,
   "metadata": {},
   "outputs": [
    {
     "name": "stdout",
     "output_type": "stream",
     "text": [
      "<?xml version=\"1.0\" encoding=\"utf-8\"?>\n",
      "<glossary><title>New title for xml</title><GlossDiv><title>S</title><GlossList><GlossEntry ID=\"HTML\" SortAs=\"SGML\"><GlossTerm>Standard Generalized Markup Language</GlossTerm><Acronym>SGML</Acronym><Abbrev>ISO 8879:1986</Abbrev><GlossDef><para>A meta-markup language, used to create markup\n",
      "languages such as DocBook.</para><GlossSeeAlso OtherTerm=\"GML\"></GlossSeeAlso><GlossSeeAlso OtherTerm=\"XML\"></GlossSeeAlso></GlossDef><GlossSee OtherTerm=\"markup\"></GlossSee></GlossEntry></GlossList></GlossDiv></glossary>\n"
     ]
    }
   ],
   "source": [
    "import xmltodict \n",
    "fp = open(\"test1.xml\",\"r\")\n",
    "content = fp.read()\n",
    "d = xmltodict.parse(content)\n",
    "# print(d['glossary']['title'])\n",
    "d['glossary']['title'] = \"New title for xml\"\n",
    "# print(d['glossary']['GlossDiv']['GlossList']['GlossEntry']['@ID'])\n",
    "d['glossary']['GlossDiv']['GlossList']['GlossEntry']['@ID'] = \"HTML\"\n",
    "\n",
    "x = xmltodict.unparse(d)\n",
    "print(x)\n",
    "fp.close()"
   ]
  },
  {
   "cell_type": "code",
   "execution_count": null,
   "metadata": {},
   "outputs": [],
   "source": [
    "json :\n",
    "    loads => str json \n",
    "    load => json fp \n",
    "    \n",
    "    dumps d=> json str \n",
    "    dump d,fp => json file \n",
    "    \n",
    "XML :\n",
    "    parse => xml str => python dict\n",
    "    unparse => dict => xml str "
   ]
  },
  {
   "cell_type": "code",
   "execution_count": null,
   "metadata": {},
   "outputs": [],
   "source": [
    "import csv "
   ]
  }
 ],
 "metadata": {
  "kernelspec": {
   "display_name": "Python 3",
   "language": "python",
   "name": "python3"
  },
  "language_info": {
   "codemirror_mode": {
    "name": "ipython",
    "version": 3
   },
   "file_extension": ".py",
   "mimetype": "text/x-python",
   "name": "python",
   "nbconvert_exporter": "python",
   "pygments_lexer": "ipython3",
   "version": "3.6.5"
  }
 },
 "nbformat": 4,
 "nbformat_minor": 2
}
