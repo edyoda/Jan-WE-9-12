{
 "cells": [
  {
   "cell_type": "code",
   "execution_count": null,
   "metadata": {},
   "outputs": [],
   "source": [
    "Datatypes :\n",
    "    1. int => imutable\n",
    "    2. float => immutbale \n",
    "    3. list => mutbale \n",
    "    4. set => mutbale \n",
    "    5. dict => mutbale\n",
    "    7. bool => immutbale True/False \n",
    "    8. tuple => immutbale  "
   ]
  },
  {
   "cell_type": "code",
   "execution_count": null,
   "metadata": {},
   "outputs": [],
   "source": [
    "mutable : methods to ad  up date and delete \n",
    "immutbale : no methods to add update and delete      "
   ]
  },
  {
   "cell_type": "code",
   "execution_count": null,
   "metadata": {},
   "outputs": [],
   "source": [
    "Str :\n",
    "    - \" \" ' '  \"\"\" \"\"\"\n",
    "    - ordered => indexing and slicing "
   ]
  },
  {
   "cell_type": "code",
   "execution_count": 7,
   "metadata": {},
   "outputs": [
    {
     "name": "stdout",
     "output_type": "stream",
     "text": [
      "\n"
     ]
    }
   ],
   "source": [
    "s = \"Lets take a sample string\"\n",
    "# print(s[200])\n",
    "print(s[2:8:-1])"
   ]
  },
  {
   "cell_type": "code",
   "execution_count": null,
   "metadata": {},
   "outputs": [],
   "source": [
    "check stride => if stride +ve index left to right \n",
    "                if stride is -ve right to left "
   ]
  },
  {
   "cell_type": "code",
   "execution_count": null,
   "metadata": {},
   "outputs": [],
   "source": [
    "List :\n",
    "    append \n",
    "    insert \n",
    "    extend \n",
    "    \n",
    "    "
   ]
  },
  {
   "cell_type": "code",
   "execution_count": 16,
   "metadata": {},
   "outputs": [
    {
     "name": "stdout",
     "output_type": "stream",
     "text": [
      "[10, 20, 30, 40, 50, 60, [70, 80, 90, [100, 200, 300, 400, 500]]]\n",
      "300\n"
     ]
    }
   ],
   "source": [
    "l = [10,20,30,40,50,60]\n",
    "l.append([70,80,90,[100,200,300,400,500]])\n",
    "print(l)\n",
    "print(l[-1][-1][2])"
   ]
  },
  {
   "cell_type": "code",
   "execution_count": 19,
   "metadata": {},
   "outputs": [
    {
     "name": "stdout",
     "output_type": "stream",
     "text": [
      "[10, 20, 30, 100]\n"
     ]
    }
   ],
   "source": [
    "l1 = [10,20,30]\n",
    "l2 = [100]\n",
    "l1.extend(l2)\n",
    "print(l1)"
   ]
  },
  {
   "cell_type": "code",
   "execution_count": null,
   "metadata": {},
   "outputs": [],
   "source": [
    "append(\"python\")\n",
    "extend(\"python\")"
   ]
  },
  {
   "cell_type": "code",
   "execution_count": 20,
   "metadata": {},
   "outputs": [
    {
     "name": "stdout",
     "output_type": "stream",
     "text": [
      "[10, 20, 50, 30, 40, 50]\n"
     ]
    }
   ],
   "source": [
    "l = [10,20,30,40,50]\n",
    "l.insert(2,50)\n",
    "print(l)"
   ]
  },
  {
   "cell_type": "code",
   "execution_count": 21,
   "metadata": {},
   "outputs": [
    {
     "name": "stdout",
     "output_type": "stream",
     "text": [
      "[10, 20, 300, 40, 50]\n"
     ]
    }
   ],
   "source": [
    "l = [10,20,30,40,50]\n",
    "l[2] = 300\n",
    "print(l)"
   ]
  },
  {
   "cell_type": "code",
   "execution_count": null,
   "metadata": {},
   "outputs": [],
   "source": [
    "delete :\n",
    "    remove \n",
    "    pop\n",
    "    clear \n",
    "    del "
   ]
  },
  {
   "cell_type": "code",
   "execution_count": 28,
   "metadata": {},
   "outputs": [
    {
     "name": "stdout",
     "output_type": "stream",
     "text": [
      "[]\n"
     ]
    }
   ],
   "source": [
    "l = [10,20,30,40,40,40,50,50,60,70]\n",
    "# r = l.pop(2)\n",
    "# print(l,r)\n",
    "\n",
    "# l.remove(40)\n",
    "# print(l)\n",
    "\n",
    "l.clear()\n",
    "print(l)\n",
    "\n",
    "del l"
   ]
  },
  {
   "cell_type": "code",
   "execution_count": null,
   "metadata": {},
   "outputs": [],
   "source": [
    "List:\n",
    "    append => python\n",
    "    extend => p,y,t,h,o,n  \n",
    "    insert \n",
    "    \n",
    "Update :\n",
    "    l[index] = new value \n",
    "\n",
    "Delete:\n",
    "    pop => index \n",
    "    remove => value  \n",
    "    clear \n",
    "    del "
   ]
  },
  {
   "cell_type": "code",
   "execution_count": 32,
   "metadata": {},
   "outputs": [
    {
     "name": "stdout",
     "output_type": "stream",
     "text": [
      "<class 'tuple'>\n"
     ]
    }
   ],
   "source": [
    "t = (10,)\n",
    "print(type(t))"
   ]
  },
  {
   "cell_type": "code",
   "execution_count": null,
   "metadata": {},
   "outputs": [],
   "source": [
    "immutable => no methods to add update and delete "
   ]
  },
  {
   "cell_type": "code",
   "execution_count": 33,
   "metadata": {},
   "outputs": [
    {
     "name": "stdout",
     "output_type": "stream",
     "text": [
      "(10, 20, 30)\n"
     ]
    }
   ],
   "source": [
    "t = 10,20,30\n",
    "print(t)"
   ]
  },
  {
   "cell_type": "code",
   "execution_count": 34,
   "metadata": {},
   "outputs": [
    {
     "name": "stdout",
     "output_type": "stream",
     "text": [
      "10\n"
     ]
    }
   ],
   "source": [
    "x,y,z =  (10,20,30)\n",
    "print(x)"
   ]
  },
  {
   "cell_type": "code",
   "execution_count": 36,
   "metadata": {},
   "outputs": [
    {
     "name": "stdout",
     "output_type": "stream",
     "text": [
      "0 10\n",
      "1 20\n",
      "2 30\n",
      "3 40\n",
      "4 50\n",
      "5 60\n"
     ]
    }
   ],
   "source": [
    "l = [10,20,30,40,50,60]\n",
    "for index,value in enumerate(l):\n",
    "    print(index,value)"
   ]
  },
  {
   "cell_type": "code",
   "execution_count": null,
   "metadata": {},
   "outputs": [],
   "source": [
    "Dict :\n",
    "    => mutable => add upadte and delete \n",
    "    => unordered  => not support indexing and slicing \n",
    "    => all the keys should be unique \n",
    "    => all the keys should be immutable = > tuple,int,str,float  "
   ]
  },
  {
   "cell_type": "code",
   "execution_count": 57,
   "metadata": {},
   "outputs": [
    {
     "name": "stdout",
     "output_type": "stream",
     "text": [
      "{1: 1, 2: 4, 3: 9, 4: 16, 5: 25, 8: 64}\n",
      "{1: 1, 2: 4, 3: 9, 4: 16, 5: 25, 8: 65}\n"
     ]
    }
   ],
   "source": [
    "d = {1:1,2:4,3:9,4:16,5:25}\n",
    "# print(d[2])\n",
    "# print(d.get(40,-1))\n",
    "# print(d.setdefault(6))\n",
    "# print(d)\n",
    "\n",
    "d[8] = 64\n",
    "print(d)\n",
    "\n",
    "d[8] = 65\n",
    "print(d)"
   ]
  },
  {
   "cell_type": "code",
   "execution_count": 59,
   "metadata": {},
   "outputs": [
    {
     "name": "stdout",
     "output_type": "stream",
     "text": [
      "{1: 1, 2: 4, 4: 16, 5: 25} 9\n",
      "{}\n"
     ]
    }
   ],
   "source": [
    "d = {1:1,2:4,3:9,4:16,5:25}\n",
    "r = d.pop(3)\n",
    "print(d,r)\n",
    "d.clear()\n",
    "print(d)"
   ]
  },
  {
   "cell_type": "code",
   "execution_count": 60,
   "metadata": {},
   "outputs": [
    {
     "name": "stdout",
     "output_type": "stream",
     "text": [
      "{1: 1, 2: 4, 3: 9, 4: 16, 5: 25}\n"
     ]
    }
   ],
   "source": [
    "l1 = [1,2,3,4,5]\n",
    "l2 = [1,4,9,16,25]\n",
    "l3 = dict(zip(l1,l2))\n",
    "print(l3)"
   ]
  },
  {
   "cell_type": "code",
   "execution_count": null,
   "metadata": {},
   "outputs": [],
   "source": [
    "Dict :\n",
    "    d.setdefault(5,25)\n",
    "    d[key] = value \n",
    "    \n",
    "Update \n",
    "    d[key] = new value \n",
    "    \n",
    "delete :\n",
    "    pop => key "
   ]
  },
  {
   "cell_type": "code",
   "execution_count": 61,
   "metadata": {},
   "outputs": [
    {
     "name": "stdout",
     "output_type": "stream",
     "text": [
      "9\n",
      "{1: 1, 2: 4, 3: 9, 4: 16}\n"
     ]
    }
   ],
   "source": [
    "d = {1:1,2:4,3:9,4:16}\n",
    "print(d.setdefault(3,27))\n",
    "print(d)"
   ]
  },
  {
   "cell_type": "code",
   "execution_count": null,
   "metadata": {},
   "outputs": [],
   "source": [
    "set :\n",
    "    mutable => add update and delete \n",
    "    unordred => no indexing and slicing \n",
    "    elements in set should be unique \n",
    "    all the elemnts in set should be immutable => int,str,float,tuple "
   ]
  },
  {
   "cell_type": "code",
   "execution_count": 62,
   "metadata": {},
   "outputs": [
    {
     "name": "stdout",
     "output_type": "stream",
     "text": [
      "<class 'set'>\n"
     ]
    }
   ],
   "source": [
    "s = {10,20,30,40,50,60}\n",
    "print(type(s))"
   ]
  },
  {
   "cell_type": "code",
   "execution_count": 64,
   "metadata": {},
   "outputs": [
    {
     "name": "stdout",
     "output_type": "stream",
     "text": [
      "<class 'set'>\n"
     ]
    }
   ],
   "source": [
    "s = set()\n",
    "print(type(s))"
   ]
  },
  {
   "cell_type": "code",
   "execution_count": 66,
   "metadata": {},
   "outputs": [
    {
     "name": "stdout",
     "output_type": "stream",
     "text": [
      "Counter({10: 7, 20: 2, 30: 1, 40: 1, 50: 1})\n"
     ]
    }
   ],
   "source": [
    "import collections\n",
    "l = (10,10,10,10,10,20,30,40,50,10,10,20)\n",
    "r = collections.Counter(l)\n",
    "print(r)"
   ]
  },
  {
   "cell_type": "code",
   "execution_count": 67,
   "metadata": {},
   "outputs": [
    {
     "name": "stdout",
     "output_type": "stream",
     "text": [
      "{40, 10, 50, 20, 30}\n"
     ]
    }
   ],
   "source": [
    "l = (10,10,10,10,10,20,30,40,50,10,10,20)\n",
    "s= set(l)\n",
    "print(s)"
   ]
  },
  {
   "cell_type": "code",
   "execution_count": null,
   "metadata": {},
   "outputs": [],
   "source": [
    "union \n",
    "intersection\n",
    "difference\n",
    "symmetric difference \n",
    "subset \n",
    "superset "
   ]
  },
  {
   "cell_type": "code",
   "execution_count": 73,
   "metadata": {},
   "outputs": [
    {
     "name": "stdout",
     "output_type": "stream",
     "text": [
      "{70, 40, 10, 50, 20, 60, 30}\n",
      "{40, 30}\n",
      "{10, 20}\n",
      "{50, 20, 70, 10, 60}\n",
      "True\n",
      "True\n"
     ]
    }
   ],
   "source": [
    "s1 = {10,20,30,40}\n",
    "s2 = {30,40,50,60,70}\n",
    "\n",
    "s3 = s1.union(s2)\n",
    "print(s3)\n",
    "\n",
    "s4 = s1.intersection(s2)\n",
    "print(s4)\n",
    "\n",
    "s5 = s1.difference(s2)\n",
    "print(s5)\n",
    "\n",
    "s6 = s1.symmetric_difference(s2)\n",
    "print(s6)\n",
    "\n",
    "s3 = {10,20}\n",
    "print(s3.issubset(s1))\n",
    "print(s1.issuperset(s3))"
   ]
  },
  {
   "cell_type": "code",
   "execution_count": null,
   "metadata": {},
   "outputs": [],
   "source": [
    "remove \n",
    "discard\n",
    "clear \n",
    "del "
   ]
  },
  {
   "cell_type": "code",
   "execution_count": 81,
   "metadata": {},
   "outputs": [
    {
     "name": "stdout",
     "output_type": "stream",
     "text": [
      "{70, 10, 80, 50, 20, 60, 30}\n",
      "{70, 10, 80, 50, 20, 60, 30}\n",
      "set()\n"
     ]
    }
   ],
   "source": [
    "s = {10,20,30,40,50,60,70,80}\n",
    "s.remove(40)\n",
    "print(s)\n",
    "\n",
    "s.discard(300)\n",
    "print(s)\n",
    "\n",
    "s.clear()\n",
    "print(s)"
   ]
  },
  {
   "cell_type": "code",
   "execution_count": 91,
   "metadata": {},
   "outputs": [
    {
     "name": "stdout",
     "output_type": "stream",
     "text": [
      "(10, 20, 30, 40, 50, 60)\n",
      "(10, [10, 20, 30, 40], 'Python', {1: 1, 2: 4, 3: 9})\n"
     ]
    }
   ],
   "source": [
    "def printVal(*args):\n",
    "    if args[0] % 2 == 0:\n",
    "        return args\n",
    "    else:\n",
    "        return args[::-1] \n",
    "\n",
    "# printVal(10,20,30)\n",
    "# printVal(10)\n",
    "# printVal(10,20,30,40,50,60,70,80)\n",
    "r = printVal(10,20,30,40,50,60)\n",
    "print(r)"
   ]
  },
  {
   "cell_type": "code",
   "execution_count": null,
   "metadata": {},
   "outputs": [],
   "source": [
    "1 positional args \n",
    "2 default args \n",
    "3 variable length positional \n",
    "4 keyword \n",
    "5 varaible length keyword "
   ]
  },
  {
   "cell_type": "code",
   "execution_count": 101,
   "metadata": {},
   "outputs": [
    {
     "name": "stdout",
     "output_type": "stream",
     "text": [
      "(10, 20, 30, 40, 50, 60) {'password': 'abc@123', 'username': 'abc'}\n",
      "None\n",
      "(10, 20) {'password': 'abc@123', 'username': 'abc'}\n",
      "None\n",
      "() {'password': 'abc@123', 'username': 'abc'}\n",
      "None\n"
     ]
    }
   ],
   "source": [
    "def auth(*args,**kwargs):\n",
    "    print(args,kwargs)\n",
    "\n",
    "print(auth(10,20,30,40,50,60,password = \"abc@123\",username =\"abc\"))\n",
    "print(auth(10,20,password = \"abc@123\",username =\"abc\"))\n",
    "print(auth(password = \"abc@123\",username =\"abc\"))"
   ]
  },
  {
   "cell_type": "code",
   "execution_count": 97,
   "metadata": {},
   "outputs": [
    {
     "name": "stdout",
     "output_type": "stream",
     "text": [
      "10,20\tHi\n"
     ]
    }
   ],
   "source": [
    "print(10,20,sep =\",\",end=\"\\t\")\n",
    "print(\"Hi\")"
   ]
  },
  {
   "cell_type": "code",
   "execution_count": 95,
   "metadata": {},
   "outputs": [
    {
     "name": "stdout",
     "output_type": "stream",
     "text": [
      "Help on built-in function print in module builtins:\n",
      "\n",
      "print(...)\n",
      "    print(value, ..., sep=' ', end='\\n', file=sys.stdout, flush=False)\n",
      "    \n",
      "    Prints the values to a stream, or to sys.stdout by default.\n",
      "    Optional keyword arguments:\n",
      "    file:  a file-like object (stream); defaults to the current sys.stdout.\n",
      "    sep:   string inserted between values, default a space.\n",
      "    end:   string appended after the last value, default a newline.\n",
      "    flush: whether to forcibly flush the stream.\n",
      "\n"
     ]
    }
   ],
   "source": [
    "help(print)"
   ]
  },
  {
   "cell_type": "code",
   "execution_count": null,
   "metadata": {},
   "outputs": [],
   "source": [
    "r\n",
    "r+ \n",
    "w\n",
    "w+\n",
    "a\n",
    "a+ "
   ]
  },
  {
   "cell_type": "code",
   "execution_count": 105,
   "metadata": {},
   "outputs": [
    {
     "name": "stdout",
     "output_type": "stream",
     "text": [
      "0\n",
      "Sample text line 1\n",
      "Sample text line 2\n",
      "Sample text line 3\n",
      "56\n",
      "0\n",
      "Sample text line 1\n",
      "Sample text line 2\n",
      "Sample text line 3\n"
     ]
    }
   ],
   "source": [
    "fp = open(\"test1.txt\",\"r\")\n",
    "print(fp.tell())\n",
    "content = fp.read()\n",
    "print(content)\n",
    "print(fp.tell())\n",
    "fp.seek(0,0)\n",
    "print(fp.tell())\n",
    "content = fp.read()\n",
    "print(content)\n",
    "fp.close()"
   ]
  },
  {
   "cell_type": "code",
   "execution_count": null,
   "metadata": {},
   "outputs": [],
   "source": [
    "seek(offset,position)\n",
    "0 => starts of the file \n",
    "1 => current position\n",
    "2 => end of the file\n",
    "\n",
    "offset = > how many chars \n",
    "seek(15,0)\n",
    "seek(0,2) \n",
    "tell() "
   ]
  },
  {
   "cell_type": "code",
   "execution_count": 113,
   "metadata": {},
   "outputs": [
    {
     "name": "stdout",
     "output_type": "stream",
     "text": [
      "0\n",
      "['Sample text line 1\\n', 'Sample text line 2\\n', 'Sample text line 3']\n"
     ]
    }
   ],
   "source": [
    "fp = open(\"test1.txt\",\"r\")\n",
    "print(fp.tell())\n",
    "print(fp.readlines())\n",
    "\n",
    "fp.close()"
   ]
  },
  {
   "cell_type": "code",
   "execution_count": 124,
   "metadata": {},
   "outputs": [
    {
     "name": "stdout",
     "output_type": "stream",
     "text": [
      "100\n"
     ]
    }
   ],
   "source": [
    "# fp = open(\"test2.txt\",\"a+\")\n",
    "# print(fp.tell())\n",
    "\n",
    "# content =  fp.read()\n",
    "# print(content)\n",
    "\n",
    "# fp.write(\"\\nAdd this line too\")\n",
    "\n",
    "# fp.close()"
   ]
  },
  {
   "cell_type": "code",
   "execution_count": null,
   "metadata": {},
   "outputs": [],
   "source": [
    "a \n",
    "a+"
   ]
  },
  {
   "cell_type": "code",
   "execution_count": null,
   "metadata": {},
   "outputs": [],
   "source": [
    "list comprehension \n",
    "map \n",
    "filter \n",
    "lambda \n",
    "generators \n",
    "iterators "
   ]
  },
  {
   "cell_type": "code",
   "execution_count": 125,
   "metadata": {},
   "outputs": [
    {
     "name": "stdout",
     "output_type": "stream",
     "text": [
      "['C:\\\\ProgramData\\\\Anaconda3\\\\lib\\\\site-packages\\\\ipykernel_launcher.py', '-f', 'C:\\\\Users\\\\kunal\\\\AppData\\\\Roaming\\\\jupyter\\\\runtime\\\\kernel-18c414e0-c58f-4ce8-99a3-a8ec08181f0b.json']\n"
     ]
    }
   ],
   "source": [
    "import sys \n",
    "print(sys.argv)"
   ]
  },
  {
   "cell_type": "code",
   "execution_count": 128,
   "metadata": {},
   "outputs": [
    {
     "name": "stdout",
     "output_type": "stream",
     "text": [
      "4.153391547134788e-06\n",
      "[100, 400, 900, 1600, 2500, 3600]\n"
     ]
    }
   ],
   "source": [
    "import timeit\n",
    "\n",
    "t = timeit.timeit(stmt =\"\"\"\n",
    "l = [10,20,30,40,50,60]\n",
    "l2 = [value * value for value in l]\n",
    "\"\"\",number =1)\n",
    "print(t)\n",
    "print(l2)"
   ]
  },
  {
   "cell_type": "code",
   "execution_count": 132,
   "metadata": {},
   "outputs": [
    {
     "name": "stdout",
     "output_type": "stream",
     "text": [
      "['Even', 'Odd', 'Even', 'Odd', 'Even', 'Odd', 'Even', 'Odd']\n"
     ]
    }
   ],
   "source": [
    "l = [10,15,20,25,30,35,40,45]\n",
    "# l2 = [value for value in l if value%2 == 0]\n",
    "# print(l2)\n",
    "\n",
    "l2 = [\"Even\" if value %2 ==0 else \"Odd\" for value in l]\n",
    "print(l2)"
   ]
  },
  {
   "cell_type": "code",
   "execution_count": 129,
   "metadata": {},
   "outputs": [
    {
     "name": "stdout",
     "output_type": "stream",
     "text": [
      "Help on function timeit in module timeit:\n",
      "\n",
      "timeit(stmt='pass', setup='pass', timer=<built-in function perf_counter>, number=1000000, globals=None)\n",
      "    Convenience function to create Timer object and call timeit method.\n",
      "\n"
     ]
    }
   ],
   "source": [
    "help(timeit.timeit)"
   ]
  },
  {
   "cell_type": "code",
   "execution_count": 133,
   "metadata": {},
   "outputs": [
    {
     "name": "stdout",
     "output_type": "stream",
     "text": [
      "{1: 1, 2: 4, 3: 9, 4: 16, 5: 25, 6: 36, 7: 49, 8: 64, 9: 81, 10: 100, 11: 121, 12: 144, 13: 169, 14: 196, 15: 225}\n"
     ]
    }
   ],
   "source": [
    "d = {key:key*key for key in range(1,16)}\n",
    "print(d)"
   ]
  },
  {
   "cell_type": "code",
   "execution_count": 135,
   "metadata": {},
   "outputs": [
    {
     "name": "stdout",
     "output_type": "stream",
     "text": [
      "{0, 1, 2, 3, 4}\n"
     ]
    }
   ],
   "source": [
    "l = [10,10,15,20,41,4,1,4,2,3,2,4,1]\n",
    "l2 = {value %5 for value in l}\n",
    "print(l2)"
   ]
  },
  {
   "cell_type": "code",
   "execution_count": null,
   "metadata": {},
   "outputs": [],
   "source": [
    "map \n",
    "filter \n",
    "lambda \n"
   ]
  },
  {
   "cell_type": "code",
   "execution_count": 137,
   "metadata": {},
   "outputs": [
    {
     "name": "stdout",
     "output_type": "stream",
     "text": [
      "[100, 400, 900, 1600, 2500, 3600, 4900, 6400]\n"
     ]
    }
   ],
   "source": [
    "def sqr(num1):\n",
    "    return num1 * num1 \n",
    "l = [10,20,30,40,50,60,70,80]\n",
    "m = map(sqr,l)\n",
    "print(list(m))"
   ]
  },
  {
   "cell_type": "code",
   "execution_count": 138,
   "metadata": {},
   "outputs": [
    {
     "name": "stdout",
     "output_type": "stream",
     "text": [
      "[111, 222, 333, 444, 555]\n"
     ]
    }
   ],
   "source": [
    "def add(num1,num2,num3):\n",
    "    return num1+num2+num3\n",
    "\n",
    "l1 = [1,2,3,4,5]\n",
    "l2 = [10,20,30,40,50]\n",
    "l3 = [100,200,300,400,500]\n",
    "l = map(add,l1,l2,l3)\n",
    "print(list(l))"
   ]
  },
  {
   "cell_type": "code",
   "execution_count": 139,
   "metadata": {},
   "outputs": [
    {
     "name": "stdout",
     "output_type": "stream",
     "text": [
      "[100, 400, 900, 1600, 2500, 3600, 4900, 6400]\n"
     ]
    }
   ],
   "source": [
    "l = [10,20,30,40,50,60,70,80]\n",
    "m = map(lambda num1:num1 * num1 ,l)\n",
    "print(list(m))"
   ]
  },
  {
   "cell_type": "code",
   "execution_count": 140,
   "metadata": {},
   "outputs": [
    {
     "name": "stdout",
     "output_type": "stream",
     "text": [
      "[111, 222, 333, 444, 555]\n"
     ]
    }
   ],
   "source": [
    "l1 = [1,2,3,4,5]\n",
    "l2 = [10,20,30,40,50]\n",
    "l3 = [100,200,300,400,500]\n",
    "l = map(lambda num1,num2,num3 : num1 +num2 +num3,l1,l2,l3)\n",
    "print(list(l))"
   ]
  },
  {
   "cell_type": "code",
   "execution_count": 158,
   "metadata": {},
   "outputs": [
    {
     "name": "stdout",
     "output_type": "stream",
     "text": [
      "aa\n"
     ]
    }
   ],
   "source": [
    "char = 'a'\n",
    "f = lambda char: (char+'a')\n",
    "print(f(char))"
   ]
  },
  {
   "cell_type": "code",
   "execution_count": 150,
   "metadata": {},
   "outputs": [
    {
     "name": "stdout",
     "output_type": "stream",
     "text": [
      "[10, 20, 24, 20, 30]\n"
     ]
    }
   ],
   "source": [
    "# def even(num1):\n",
    "#     if num1 % 2 == 0:\n",
    "#         return True\n",
    "#     else:\n",
    "#         return False\n",
    "   \n",
    "        \n",
    "l = [10,15,20,24,45,65,85,95,20,30]\n",
    "m = filter(lambda num1: num1%2 == 0,l)\n",
    "print(list(m))"
   ]
  },
  {
   "cell_type": "code",
   "execution_count": 154,
   "metadata": {},
   "outputs": [
    {
     "name": "stdout",
     "output_type": "stream",
     "text": [
      "210\n"
     ]
    }
   ],
   "source": [
    "from functools import reduce\n",
    "# def add(sum,num1 ):\n",
    "#     sum = sum + num1\n",
    "#     return sum\n",
    "    \n",
    "\n",
    "l = [10,20,30,40,50,60]\n",
    "m = reduce(lambda sum,num1 : sum + num1 ,l)\n",
    "print(m)"
   ]
  },
  {
   "cell_type": "code",
   "execution_count": null,
   "metadata": {},
   "outputs": [],
   "source": [
    "iterators : \n",
    "    l = []\n",
    "    for value in l:\n",
    "        print(value)\n",
    "        \n",
    "    __next__\n",
    "    __iter__"
   ]
  },
  {
   "cell_type": "code",
   "execution_count": 159,
   "metadata": {},
   "outputs": [
    {
     "name": "stdout",
     "output_type": "stream",
     "text": [
      "['__add__', '__class__', '__contains__', '__delattr__', '__delitem__', '__dir__', '__doc__', '__eq__', '__format__', '__ge__', '__getattribute__', '__getitem__', '__gt__', '__hash__', '__iadd__', '__imul__', '__init__', '__init_subclass__', '__iter__', '__le__', '__len__', '__lt__', '__mul__', '__ne__', '__new__', '__reduce__', '__reduce_ex__', '__repr__', '__reversed__', '__rmul__', '__setattr__', '__setitem__', '__sizeof__', '__str__', '__subclasshook__', 'append', 'clear', 'copy', 'count', 'extend', 'index', 'insert', 'pop', 'remove', 'reverse', 'sort']\n"
     ]
    }
   ],
   "source": [
    "print(dir(list))"
   ]
  },
  {
   "cell_type": "code",
   "execution_count": 168,
   "metadata": {},
   "outputs": [
    {
     "name": "stdout",
     "output_type": "stream",
     "text": [
      "(<itertools._tee object at 0x0000021FFBE8A0C8>, <itertools._tee object at 0x0000021FFBE796C8>)\n",
      "30\n",
      "40\n",
      "50\n"
     ]
    }
   ],
   "source": [
    "import itertools\n",
    "\n",
    "l = [10,20,30,40,50,60,70,80,90]\n",
    "i = itertools.tee(l)\n",
    "print(i)\n",
    "# print(next(i))\n",
    "# print(next(i))\n",
    "for value in itertools.islice(i[0],2,5):\n",
    "    print(value)\n"
   ]
  },
  {
   "cell_type": "code",
   "execution_count": null,
   "metadata": {},
   "outputs": [],
   "source": [
    "User =>1M \n",
    "querset=>object =User.objects.all()"
   ]
  },
  {
   "cell_type": "code",
   "execution_count": null,
   "metadata": {},
   "outputs": [],
   "source": [
    "Generators : function iterators \n",
    "    "
   ]
  },
  {
   "cell_type": "code",
   "execution_count": 179,
   "metadata": {},
   "outputs": [
    {
     "name": "stdout",
     "output_type": "stream",
     "text": [
      "(<itertools._tee object at 0x0000021FFBE79988>, <itertools._tee object at 0x0000021FFBE96D08>, <itertools._tee object at 0x0000021FFBE96F48>, <itertools._tee object at 0x0000021FFBE96FC8>, <itertools._tee object at 0x0000021FFBE96E08>)\n",
      "<generator object fibo at 0x0000021FFBEA44C0>\n",
      "1\n",
      "1\n",
      "2\n",
      "3\n",
      "5\n",
      "8\n",
      "13\n",
      "21\n",
      "34\n",
      "55\n",
      "89\n",
      "144\n",
      "233\n",
      "377\n",
      "610\n",
      "987\n",
      "1597\n",
      "2584\n",
      "4181\n",
      "6765\n",
      "10946\n",
      "17711\n",
      "28657\n",
      "46368\n",
      "75025\n"
     ]
    }
   ],
   "source": [
    "import itertools\n",
    "def fibo():\n",
    "    first_num = 0\n",
    "    sec_num = 1\n",
    "    yield sec_num\n",
    "    while(True):\n",
    "        next_num = first_num + sec_num\n",
    "        yield next_num\n",
    "        first_num,sec_num = sec_num,next_num\n",
    "\n",
    "f = fibo()\n",
    "\n",
    "print(t)\n",
    "print(f)\n",
    "print(next(f))\n",
    "print(next(f))\n",
    "print(next(f))\n",
    "print(next(f))\n",
    "count = 0\n",
    "for value in f:\n",
    "    if count > 20:\n",
    "        break\n",
    "    count+=1    \n",
    "    print(value)"
   ]
  }
 ],
 "metadata": {
  "kernelspec": {
   "display_name": "Python 3",
   "language": "python",
   "name": "python3"
  },
  "language_info": {
   "codemirror_mode": {
    "name": "ipython",
    "version": 3
   },
   "file_extension": ".py",
   "mimetype": "text/x-python",
   "name": "python",
   "nbconvert_exporter": "python",
   "pygments_lexer": "ipython3",
   "version": "3.6.5"
  }
 },
 "nbformat": 4,
 "nbformat_minor": 2
}
