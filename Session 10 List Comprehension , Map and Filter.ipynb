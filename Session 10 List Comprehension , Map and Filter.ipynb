{
 "cells": [
  {
   "cell_type": "code",
   "execution_count": null,
   "metadata": {},
   "outputs": [],
   "source": [
    "List comprehension \n",
    "Map \n",
    "Filter \n",
    "Lambda \n",
    "Generators \n",
    "Iterators \n",
    "Itertools \n",
    "Decorators "
   ]
  },
  {
   "cell_type": "code",
   "execution_count": 1,
   "metadata": {},
   "outputs": [
    {
     "name": "stdout",
     "output_type": "stream",
     "text": [
      "[100, 400, 900, 1600, 2500, 3600]\n"
     ]
    }
   ],
   "source": [
    "l = [10,20,30,40,50,60]\n",
    "l2 = []\n",
    "for value in l:\n",
    "    l2.append(value * value)\n",
    "print(l2)"
   ]
  },
  {
   "cell_type": "code",
   "execution_count": 2,
   "metadata": {},
   "outputs": [
    {
     "name": "stdout",
     "output_type": "stream",
     "text": [
      "[100, 400, 900, 1600, 2500, 3600]\n"
     ]
    }
   ],
   "source": [
    "l = [10,20,30,40,50,60]\n",
    "l2 = [value * value for value in l]\n",
    "print(l2)"
   ]
  },
  {
   "cell_type": "code",
   "execution_count": 3,
   "metadata": {},
   "outputs": [
    {
     "name": "stdout",
     "output_type": "stream",
     "text": [
      "2.3579425744099534\n"
     ]
    }
   ],
   "source": [
    "import timeit\n",
    "t = timeit.timeit(stmt = \"\"\"\n",
    "l2 = []\n",
    "for value in range(1,10000000):\n",
    "    l2.append(value * value)\n",
    "\"\"\",number = 1)\n",
    "print(t)"
   ]
  },
  {
   "cell_type": "code",
   "execution_count": 4,
   "metadata": {},
   "outputs": [
    {
     "name": "stdout",
     "output_type": "stream",
     "text": [
      "1.5174446352488786\n"
     ]
    }
   ],
   "source": [
    "import timeit\n",
    "t =  timeit.timeit(stmt = \"\"\"\n",
    "l2 = [value * value for value in range(1,10000000)]\n",
    "\"\"\",number = 1)\n",
    "print(t)"
   ]
  },
  {
   "cell_type": "code",
   "execution_count": 6,
   "metadata": {},
   "outputs": [
    {
     "name": "stdout",
     "output_type": "stream",
     "text": [
      "[3, 5, 7, 14]\n",
      "{'abc': 3, 'pwrrw': 5, 'ttttttt': 7, 'sadsadasdsadas': 14}\n"
     ]
    }
   ],
   "source": [
    "l = ['abc','pwrrw','ttttttt','sadsadasdsadas']\n",
    "l2 = [len(value) for value in l]\n",
    "print(l2)\n",
    "d = dict(zip(l,l2))\n",
    "print(d)"
   ]
  },
  {
   "cell_type": "code",
   "execution_count": 7,
   "metadata": {},
   "outputs": [
    {
     "name": "stdout",
     "output_type": "stream",
     "text": [
      "[0.5963068658704501, 0.6337734700072236, 0.4890629274743007, 0.7570847259571357, 0.4192805271334409]\n"
     ]
    }
   ],
   "source": [
    "import random\n",
    "l2 = [random.random() for vlue in range(5)]\n",
    "print(l2)"
   ]
  },
  {
   "cell_type": "code",
   "execution_count": 8,
   "metadata": {},
   "outputs": [
    {
     "name": "stdout",
     "output_type": "stream",
     "text": [
      "[10, 30, 40, 50]\n"
     ]
    }
   ],
   "source": [
    "l = [10,25,30,35,40,45,50,55]\n",
    "l2 = [value for value in l if value %2 == 0]\n",
    "print(l2)"
   ]
  },
  {
   "cell_type": "code",
   "execution_count": 9,
   "metadata": {},
   "outputs": [
    {
     "name": "stdout",
     "output_type": "stream",
     "text": [
      "['Even', 'Odd', 'Even', 'Odd', 'Even', 'Odd', 'Even', 'Odd']\n"
     ]
    }
   ],
   "source": [
    "l = [10,25,30,35,40,45,50,55]\n",
    "l2 = [\"Even\" if value % 2 == 0 else \"Odd\" for value in l]\n",
    "print(l2)"
   ]
  },
  {
   "cell_type": "code",
   "execution_count": 10,
   "metadata": {},
   "outputs": [
    {
     "name": "stdout",
     "output_type": "stream",
     "text": [
      "1 100\n",
      "1 101\n",
      "1 102\n",
      "1 103\n",
      "1 104\n",
      "2 100\n",
      "2 101\n",
      "2 102\n",
      "2 103\n",
      "2 104\n",
      "3 100\n",
      "3 101\n",
      "3 102\n",
      "3 103\n",
      "3 104\n",
      "4 100\n",
      "4 101\n",
      "4 102\n",
      "4 103\n",
      "4 104\n"
     ]
    }
   ],
   "source": [
    "for val1 in range(1,5):\n",
    "    for val2 in range(100,105):\n",
    "        print(val1,val2)"
   ]
  },
  {
   "cell_type": "code",
   "execution_count": 11,
   "metadata": {},
   "outputs": [
    {
     "name": "stdout",
     "output_type": "stream",
     "text": [
      "[(1, 100), (1, 101), (1, 102), (1, 103), (1, 104), (2, 100), (2, 101), (2, 102), (2, 103), (2, 104), (3, 100), (3, 101), (3, 102), (3, 103), (3, 104), (4, 100), (4, 101), (4, 102), (4, 103), (4, 104)]\n"
     ]
    }
   ],
   "source": [
    "l2 = [(val1,val2) for val1 in range(1,5) for val2 in range(100,105)]\n",
    "print(l2)"
   ]
  },
  {
   "cell_type": "code",
   "execution_count": 12,
   "metadata": {},
   "outputs": [
    {
     "name": "stdout",
     "output_type": "stream",
     "text": [
      "[1, 2, 3, 4, 5, 6, 7, 8, 9]\n"
     ]
    }
   ],
   "source": [
    "l1 = [[1,2,3],[4,5,6],[7,8,9]]\n",
    "l2 = [val2 for val1 in l1 for val2 in val1]\n",
    "print(l2)"
   ]
  },
  {
   "cell_type": "code",
   "execution_count": 25,
   "metadata": {},
   "outputs": [
    {
     "name": "stdout",
     "output_type": "stream",
     "text": [
      "[[1, 4, 7], [2, 5, 8], [3, 6, 9]]\n"
     ]
    }
   ],
   "source": [
    "# l2 = [[1,4,7],[2,5,8],[3,6,9]]\n",
    "l1 = [[1,2,3],[4,5,6],[7,8,9]]\n",
    "l2 = [[value[index] for value in l1] for index in range(len(l1))]\n",
    "print(l2)"
   ]
  },
  {
   "cell_type": "code",
   "execution_count": null,
   "metadata": {},
   "outputs": [],
   "source": [
    "1:1,2:4,3:9...10:100"
   ]
  },
  {
   "cell_type": "code",
   "execution_count": 26,
   "metadata": {},
   "outputs": [
    {
     "name": "stdout",
     "output_type": "stream",
     "text": [
      "{1: 1, 2: 4, 3: 9, 4: 16, 5: 25, 6: 36, 7: 49, 8: 64, 9: 81, 10: 100}\n"
     ]
    }
   ],
   "source": [
    "d = {key:key*key for key in range(1,11)}\n",
    "print(d)"
   ]
  },
  {
   "cell_type": "code",
   "execution_count": 28,
   "metadata": {},
   "outputs": [
    {
     "name": "stdout",
     "output_type": "stream",
     "text": [
      "{97: 'a', 98: 'b', 99: 'c', 100: 'd', 101: 'e', 102: 'f', 103: 'g', 104: 'h', 105: 'i', 106: 'j', 107: 'k', 108: 'l', 109: 'm', 110: 'n', 111: 'o', 112: 'p', 113: 'q', 114: 'r', 115: 's', 116: 't', 117: 'u', 118: 'v', 119: 'w', 120: 'x', 121: 'y', 122: 'z'}\n"
     ]
    }
   ],
   "source": [
    "# a:97,b:98....z:122\n",
    "\n",
    "d2 = {chr(value):value for value in range(ord('a'),ord('z')+1)}\n",
    "# print(d2)\n",
    "\n",
    "d3 = {value:key for key,value in d2.items()}\n",
    "print(d3)"
   ]
  },
  {
   "cell_type": "code",
   "execution_count": 30,
   "metadata": {},
   "outputs": [
    {
     "name": "stdout",
     "output_type": "stream",
     "text": [
      "{0, 2, 4}\n"
     ]
    }
   ],
   "source": [
    "l = [10,12,30,35,45,20,10,10,4,5]\n",
    "l2 = {value % 5 for value in l}\n",
    "print(l2)"
   ]
  },
  {
   "cell_type": "code",
   "execution_count": null,
   "metadata": {},
   "outputs": [],
   "source": []
  }
 ],
 "metadata": {
  "kernelspec": {
   "display_name": "Python 3",
   "language": "python",
   "name": "python3"
  },
  "language_info": {
   "codemirror_mode": {
    "name": "ipython",
    "version": 3
   },
   "file_extension": ".py",
   "mimetype": "text/x-python",
   "name": "python",
   "nbconvert_exporter": "python",
   "pygments_lexer": "ipython3",
   "version": "3.6.5"
  }
 },
 "nbformat": 4,
 "nbformat_minor": 2
}
