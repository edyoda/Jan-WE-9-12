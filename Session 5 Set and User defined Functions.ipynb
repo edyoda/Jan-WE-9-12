{
 "cells": [
  {
   "cell_type": "code",
   "execution_count": null,
   "metadata": {},
   "outputs": [],
   "source": [
    "List :\n",
    "    Add:\n",
    "        append(\"Python\")\n",
    "        extend(\"python\") \n",
    "        insert(200,\"Python\")\n",
    "    Update:\n",
    "        l[index] = new value \n",
    "        \n",
    "    Delete :\n",
    "        pop(2) index\n",
    "        remove(2) value \n",
    "        del\n",
    "        clear \n",
    "        \n",
    "        \n",
    "Dict :\n",
    "   add \n",
    "        setdefault \n",
    "        d[key] = value \n",
    "   update :\n",
    "        d[key] = new value \n",
    "        update\n",
    "   delete \n",
    "        popitem \n",
    "        pop(\"key\")\n",
    "        clear \n",
    "        del \n",
    "        \n",
    "Opeartors true or false \n",
    "    and or not logical operators \n",
    "    ==,!=,<,>,<=,>= comparison \n",
    "    in not in membership \n",
    "    is is not identity opeartors \n",
    "    \n",
    "== => value  is => memory location \n",
    "id type \n",
    "\n",
    "num1 = 1000\n",
    "num2 = 1000\n",
    "\n",
    "l1 = [10,20,30]\n",
    "l2 = [10,20,30]\n",
    "\n",
    "immutable :\n",
    "    int \n",
    "    float \n",
    "    str \n",
    "    tuple\n",
    "    bool\n",
    "mutable :\n",
    "    list \n",
    "    dict \n",
    "    set \n",
    "\n",
    "if True:\n",
    "    print(\"Hi\")\n",
    "else:\n",
    "    print(\"Python\")\n",
    "    \n",
    "enumerate index,value\n",
    "\n",
    "\n",
    "Str :\n",
    "    split \n",
    "    join \n",
    "    \n",
    "    find \n",
    "    replace\n",
    "    count     \n",
    "    \n",
    "    upper isupper \n",
    "    lower islower\n",
    "    title  istitle \n",
    "    capitalize\n",
    "    \n",
    "    isalpha\n",
    "    isalnum\n",
    "    isdigit \n",
    "    isspace \n",
    "    \n",
    "    strip \n",
    "    lstrip\n",
    "    rstrip \n",
    "    \n",
    "    center \n",
    "    ljust \n",
    "    rjust \n",
    "    \n",
    "    s = \"Lets learn python\"\n",
    "    print(s[::-1])\n",
    "    print(s[2:6:-1])\n",
    "    print(s[5:-1])\n",
    "    \n",
    "    \n",
    "    \n",
    "    \n",
    "\n",
    "    \n",
    "\n",
    "\n",
    "\n",
    "    \n",
    "\n",
    "        "
   ]
  },
  {
   "cell_type": "code",
   "execution_count": 4,
   "metadata": {},
   "outputs": [
    {
     "name": "stdout",
     "output_type": "stream",
     "text": [
      "['Python', 'Java', 'C', 'C++,Django']\n"
     ]
    }
   ],
   "source": [
    "s = \"Python,Java,C,C++,Django\"\n",
    "l = s.split(',',maxsplit=3)\n",
    "print(l)\n"
   ]
  },
  {
   "cell_type": "markdown",
   "metadata": {},
   "source": [
    "### Set :\n",
    "    - {10,20,30,40,50,60}\n",
    "    - {10:None,20:None,30:None,50:None}\n",
    "    - all the elements in set should be unique \n",
    "    - all the elemnts should be immutable "
   ]
  },
  {
   "cell_type": "code",
   "execution_count": null,
   "metadata": {},
   "outputs": [],
   "source": [
    "s1 = {10,20,30,40,50,60,70}\n",
    "s2 = {50,60,70,80,90}\n",
    "\n",
    "s1 union s2 = {10,20,30,40,50,60,70,80,90}\n",
    "\n",
    "s1 intersection s2 = {50,60,70}\n",
    "\n",
    "s1 difference s2 = {10,20,30,40} \n",
    "s2 difference s2 = {80,90}\n",
    "\n",
    "s1 symmetric difference s2 = {10,20,30,40,80,90}\n",
    "\n",
    "s3 = {10,20}\n",
    "s3 is suset of s1\n",
    "s1 is supeset of s3"
   ]
  },
  {
   "cell_type": "code",
   "execution_count": 10,
   "metadata": {},
   "outputs": [
    {
     "name": "stdout",
     "output_type": "stream",
     "text": [
      "{40, 10, 50, 20, 30}\n"
     ]
    }
   ],
   "source": [
    "s = {10,20,30,40,40,40,40,50,50,50}\n",
    "print(s)\n",
    "\n",
    "# s2 = set()\n",
    "# print(type(s2))"
   ]
  },
  {
   "cell_type": "code",
   "execution_count": 12,
   "metadata": {},
   "outputs": [
    {
     "name": "stdout",
     "output_type": "stream",
     "text": [
      "{70, 40, 10, 80, 50, 20, 60, 30}\n"
     ]
    }
   ],
   "source": [
    "s1 = {10,20,30,40,50,60}\n",
    "s2 = {40,50,60,70,80}\n",
    "\n",
    "# s3 = s1.union(s2)\n",
    "# print(s3)\n",
    "\n",
    "s1.update(s2)\n",
    "print(s1)"
   ]
  },
  {
   "cell_type": "code",
   "execution_count": 18,
   "metadata": {},
   "outputs": [
    {
     "name": "stdout",
     "output_type": "stream",
     "text": [
      "set()\n",
      "set()\n"
     ]
    }
   ],
   "source": [
    "s1 = {10,20,30,40,50,60}\n",
    "s2 = {}\n",
    "\n",
    "s3 = s1.intersection(s2)\n",
    "print(s3)\n",
    "\n",
    "s1.intersection_update(s2)\n",
    "print(s1)"
   ]
  },
  {
   "cell_type": "code",
   "execution_count": 17,
   "metadata": {},
   "outputs": [
    {
     "name": "stdout",
     "output_type": "stream",
     "text": [
      "{80, 70}\n",
      "{10, 20, 30}\n"
     ]
    }
   ],
   "source": [
    "s1 = {10,20,30,40,50,60}\n",
    "s2 = {40,50,60,70,80}\n",
    "\n",
    "s3 = s2.difference(s1)\n",
    "print(s3)\n",
    "\n",
    "s1.difference_update(s2)\n",
    "print(s1)"
   ]
  },
  {
   "cell_type": "code",
   "execution_count": 20,
   "metadata": {},
   "outputs": [
    {
     "name": "stdout",
     "output_type": "stream",
     "text": [
      "{80, 20, 70, 10, 30}\n",
      "{70, 10, 80, 20, 30}\n"
     ]
    }
   ],
   "source": [
    "s1 = {10,20,30,40,50,60}\n",
    "s2 = {40,50,60,70,80}\n",
    "\n",
    "s3 =  s1.symmetric_difference(s2)\n",
    "print(s3)\n",
    "\n",
    "s1.symmetric_difference_update(s2)\n",
    "print(s1)"
   ]
  },
  {
   "cell_type": "code",
   "execution_count": 24,
   "metadata": {},
   "outputs": [
    {
     "name": "stdout",
     "output_type": "stream",
     "text": [
      "True\n"
     ]
    }
   ],
   "source": [
    "s1 = {10,20,30,40,50,60}\n",
    "s2 = {40,50,60,70,80}\n",
    "s3 = {10,20}\n",
    "# print(s3.issubset(s1))\n",
    "print(s1.issuperset(s3))\n"
   ]
  },
  {
   "cell_type": "code",
   "execution_count": 27,
   "metadata": {},
   "outputs": [
    {
     "name": "stdout",
     "output_type": "stream",
     "text": [
      "{100, 200, 10, 75, 12, 45, 74, 78, 20, 85, 25, 30}\n",
      "[10, 12, 20, 25, 30, 45, 74, 75, 78, 85, 100, 200]\n"
     ]
    }
   ],
   "source": [
    "l1 = [10,20,25,30,45,85,45,75,45,12,10,10]\n",
    "l2 = [100,200,10,10,10,10,20,45,74,78,85]\n",
    "\n",
    "s1 = set(l1)\n",
    "s2 = set(l2)\n",
    "\n",
    "s3 = s1.union(s2)\n",
    "print(s3)\n",
    "\n",
    "l3 =  sorted(s3)\n",
    "print(l3)"
   ]
  },
  {
   "cell_type": "code",
   "execution_count": null,
   "metadata": {},
   "outputs": [],
   "source": [
    "pop\n",
    "remove \n",
    "discard \n",
    "clear \n",
    "del "
   ]
  },
  {
   "cell_type": "code",
   "execution_count": 38,
   "metadata": {},
   "outputs": [
    {
     "name": "stdout",
     "output_type": "stream",
     "text": [
      "{40, 10, 80, 50, 20, 60, 30} 70\n",
      "{40, 10, 80, 50, 60, 30}\n",
      "{40, 10, 80, 50, 60, 30}\n",
      "set()\n"
     ]
    },
    {
     "ename": "NameError",
     "evalue": "name 's' is not defined",
     "output_type": "error",
     "traceback": [
      "\u001b[1;31m---------------------------------------------------------------------------\u001b[0m",
      "\u001b[1;31mNameError\u001b[0m                                 Traceback (most recent call last)",
      "\u001b[1;32m<ipython-input-38-ad2efbd87ed7>\u001b[0m in \u001b[0;36m<module>\u001b[1;34m()\u001b[0m\n\u001b[0;32m     13\u001b[0m \u001b[1;33m\u001b[0m\u001b[0m\n\u001b[0;32m     14\u001b[0m \u001b[1;32mdel\u001b[0m \u001b[0ms\u001b[0m\u001b[1;33m\u001b[0m\u001b[0m\n\u001b[1;32m---> 15\u001b[1;33m \u001b[0mprint\u001b[0m\u001b[1;33m(\u001b[0m\u001b[0ms\u001b[0m\u001b[1;33m)\u001b[0m\u001b[1;33m\u001b[0m\u001b[0m\n\u001b[0m",
      "\u001b[1;31mNameError\u001b[0m: name 's' is not defined"
     ]
    }
   ],
   "source": [
    "s= {10,20,30,40,50,60,70,80}\n",
    "r = s.pop()\n",
    "print(s,r)\n",
    "\n",
    "s.remove(20)\n",
    "print(s)\n",
    "\n",
    "s.discard(500)\n",
    "print(s)\n",
    "\n",
    "s.clear()\n",
    "print(s)\n",
    "\n",
    "del s\n",
    "print(s)"
   ]
  },
  {
   "cell_type": "code",
   "execution_count": null,
   "metadata": {},
   "outputs": [],
   "source": [
    "Functions:\n",
    "    code reuse \n",
    "    maintainable "
   ]
  },
  {
   "cell_type": "code",
   "execution_count": null,
   "metadata": {},
   "outputs": [],
   "source": [
    "fun def \n",
    "\n",
    "fun call "
   ]
  },
  {
   "cell_type": "code",
   "execution_count": 41,
   "metadata": {},
   "outputs": [
    {
     "name": "stdout",
     "output_type": "stream",
     "text": [
      "7\n",
      "[10, 20, 30, 40] None\n"
     ]
    }
   ],
   "source": [
    "s = \"Python sample string\"\n",
    "r = s.index(\"s\")\n",
    "print(r)\n",
    "\n",
    "l = [10,20,30]\n",
    "r = l.append(40)\n",
    "print(l,r)"
   ]
  },
  {
   "cell_type": "code",
   "execution_count": 3,
   "metadata": {},
   "outputs": [
    {
     "name": "stdout",
     "output_type": "stream",
     "text": [
      "10 20\n",
      "30\n",
      "Python Java\n",
      "PythonJava\n",
      "[10, 20, 30] [100, 200, 300]\n",
      "[10, 20, 30, 100, 200, 300]\n"
     ]
    }
   ],
   "source": [
    "def add(num1,num2):\n",
    "    print(num1,num2)\n",
    "    num3 = num1 + num2\n",
    "    return num3   \n",
    "\n",
    "r = add(10,20)\n",
    "print(r)\n",
    "\n",
    "r = add(\"Python\",\"Java\")\n",
    "print(r)\n",
    "\n",
    "\n",
    "r = add([10,20,30],[100,200,300])\n",
    "print(r)\n",
    "\n"
   ]
  },
  {
   "cell_type": "code",
   "execution_count": 7,
   "metadata": {},
   "outputs": [
    {
     "name": "stdout",
     "output_type": "stream",
     "text": [
      "True\n"
     ]
    }
   ],
   "source": [
    "def linear_search(l,key):\n",
    "    for value in l:\n",
    "        if value == key:\n",
    "            return True         \n",
    "    else:\n",
    "        return False\n",
    "\n",
    "l = [10,20,30,40,50,60]\n",
    "key = 50\n",
    "result = linear_search(l,key )\n",
    "print(result)"
   ]
  },
  {
   "cell_type": "code",
   "execution_count": 11,
   "metadata": {},
   "outputs": [
    {
     "name": "stdout",
     "output_type": "stream",
     "text": [
      "85\n"
     ]
    }
   ],
   "source": [
    "def sec_max(l):\n",
    "    s = set(l)\n",
    "    l2 = sorted(s)\n",
    "    return l2[-2]\n",
    "\n",
    "l = [10,20,20,41,85,100,45,78,85,41,52,35,78]\n",
    "print(sec_max(l))"
   ]
  },
  {
   "cell_type": "code",
   "execution_count": 14,
   "metadata": {},
   "outputs": [
    {
     "name": "stdout",
     "output_type": "stream",
     "text": [
      "{'z', 'd', 'c', 'a', 'r', 'b'}\n",
      "z\n"
     ]
    }
   ],
   "source": [
    "def char_max(s):\n",
    "    s1 = set(s)\n",
    "    max_char = ''\n",
    "    max_count = 0 \n",
    "    for value in s1:\n",
    "        if s.count(value) > max_count:\n",
    "            max_char = value \n",
    "            max_count = s.count(value)\n",
    "\n",
    "    return max_char\n",
    "\n",
    "s = \"aabbbcdaaabababzzzzzzzzzzzrrrrrrr\"\n",
    "print(char_max(s))"
   ]
  },
  {
   "cell_type": "code",
   "execution_count": 15,
   "metadata": {},
   "outputs": [
    {
     "name": "stdout",
     "output_type": "stream",
     "text": [
      "z\n"
     ]
    }
   ],
   "source": [
    "def char_max(s):\n",
    "    max_char = ''\n",
    "    max_count = 0\n",
    "    for value in s:\n",
    "        if s.count(value) > max_count:\n",
    "            max_count = s.count(value)\n",
    "            max_char = value\n",
    "    \n",
    "    return max_char\n",
    "\n",
    "s = \"aabbbcdaaabababzzzzzzzzzzzrrrrrrr\"\n",
    "print(char_max(s))"
   ]
  },
  {
   "cell_type": "code",
   "execution_count": 25,
   "metadata": {},
   "outputs": [
    {
     "name": "stdout",
     "output_type": "stream",
     "text": [
      "0.9454799879181075\n"
     ]
    }
   ],
   "source": [
    "import random \n",
    "print(random.random())\n"
   ]
  },
  {
   "cell_type": "code",
   "execution_count": 34,
   "metadata": {},
   "outputs": [
    {
     "name": "stdout",
     "output_type": "stream",
     "text": [
      "4\n"
     ]
    }
   ],
   "source": [
    "l = [1,2,3,4,5,6]\n",
    "print(random.choice(l))"
   ]
  },
  {
   "cell_type": "code",
   "execution_count": 44,
   "metadata": {},
   "outputs": [
    {
     "name": "stdout",
     "output_type": "stream",
     "text": [
      "50\n"
     ]
    }
   ],
   "source": [
    "print(random.randint(10,50))"
   ]
  },
  {
   "cell_type": "code",
   "execution_count": 50,
   "metadata": {},
   "outputs": [
    {
     "name": "stdout",
     "output_type": "stream",
     "text": [
      "49.93524475413249\n"
     ]
    }
   ],
   "source": [
    "print(random.uniform(10,50))"
   ]
  },
  {
   "cell_type": "code",
   "execution_count": null,
   "metadata": {},
   "outputs": [],
   "source": [
    "gen_password()\n",
    "8 char password \n",
    "1 upper \n",
    "1 lower \n",
    "1 special \n",
    "5 digits "
   ]
  },
  {
   "cell_type": "code",
   "execution_count": 51,
   "metadata": {},
   "outputs": [
    {
     "data": {
      "text/plain": [
       "'a'"
      ]
     },
     "execution_count": 51,
     "metadata": {},
     "output_type": "execute_result"
    }
   ],
   "source": [
    "ord('a') \n",
    "chr(97)"
   ]
  },
  {
   "cell_type": "code",
   "execution_count": 131,
   "metadata": {},
   "outputs": [
    {
     "name": "stdout",
     "output_type": "stream",
     "text": [
      "kN@36321\n",
      "N63312k@\n"
     ]
    }
   ],
   "source": [
    "def gen_pass():\n",
    "    lower = chr(random.randint(ord('a'),ord('z')))\n",
    "    upper = chr(random.randint(ord('A'),ord('Z')))\n",
    "    l = ['!','@','#','&','*']\n",
    "    special =  random.choice(l)\n",
    "    digits = random.randint(10000,99999)\n",
    "    s = lower + upper + special + str(digits)\n",
    "    \n",
    "    l2 = random.sample(s,8)\n",
    "    password  = (\"\").join(l2)\n",
    "\n",
    "    return password\n",
    "print(gen_pass())"
   ]
  },
  {
   "cell_type": "code",
   "execution_count": 132,
   "metadata": {},
   "outputs": [
    {
     "name": "stdout",
     "output_type": "stream",
     "text": [
      "100\n",
      "Inside func 100\n"
     ]
    }
   ],
   "source": [
    "def printVal():\n",
    "    print(\"Inside func\",num1)\n",
    "\n",
    "num1 = 100\n",
    "print(num1)\n",
    "printVal()"
   ]
  },
  {
   "cell_type": "code",
   "execution_count": 1,
   "metadata": {},
   "outputs": [
    {
     "name": "stdout",
     "output_type": "stream",
     "text": [
      "Inside func 100\n"
     ]
    },
    {
     "ename": "NameError",
     "evalue": "name 'num1' is not defined",
     "output_type": "error",
     "traceback": [
      "\u001b[1;31m---------------------------------------------------------------------------\u001b[0m",
      "\u001b[1;31mNameError\u001b[0m                                 Traceback (most recent call last)",
      "\u001b[1;32m<ipython-input-1-9dff43282fc1>\u001b[0m in \u001b[0;36m<module>\u001b[1;34m()\u001b[0m\n\u001b[0;32m      4\u001b[0m \u001b[1;33m\u001b[0m\u001b[0m\n\u001b[0;32m      5\u001b[0m \u001b[0mprintVal\u001b[0m\u001b[1;33m(\u001b[0m\u001b[1;33m)\u001b[0m\u001b[1;33m\u001b[0m\u001b[0m\n\u001b[1;32m----> 6\u001b[1;33m \u001b[0mprint\u001b[0m\u001b[1;33m(\u001b[0m\u001b[0mnum1\u001b[0m\u001b[1;33m)\u001b[0m\u001b[1;33m\u001b[0m\u001b[0m\n\u001b[0m",
      "\u001b[1;31mNameError\u001b[0m: name 'num1' is not defined"
     ]
    }
   ],
   "source": [
    "def printVal():\n",
    "    num1 = 100\n",
    "    print(\"Inside func\",num1)\n",
    "\n",
    "printVal()\n",
    "print(num1)\n"
   ]
  },
  {
   "cell_type": "code",
   "execution_count": 7,
   "metadata": {},
   "outputs": [
    {
     "name": "stdout",
     "output_type": "stream",
     "text": [
      "inside func 500\n",
      "inside func 200\n",
      "ouside func 100\n"
     ]
    }
   ],
   "source": [
    "def printVal():\n",
    "#     global num1\n",
    "    num1 = 500 \n",
    "    print(\"inside func\",num1)\n",
    "    num1 = 200\n",
    "    print(\"inside func\",num1)\n",
    "    \n",
    "num1 = 100\n",
    "printVal()\n",
    "print(\"ouside func\",num1)"
   ]
  },
  {
   "cell_type": "code",
   "execution_count": null,
   "metadata": {},
   "outputs": [],
   "source": [
    "fibo(10)\n",
    "perfect_no \n",
    "matrix  addition "
   ]
  },
  {
   "cell_type": "code",
   "execution_count": null,
   "metadata": {},
   "outputs": [],
   "source": [
    "\n"
   ]
  }
 ],
 "metadata": {
  "kernelspec": {
   "display_name": "Python 3",
   "language": "python",
   "name": "python3"
  }
 },
 "nbformat": 4,
 "nbformat_minor": 2
}
