{
 "cells": [
  {
   "cell_type": "code",
   "execution_count": null,
   "metadata": {},
   "outputs": [],
   "source": [
    "Db access: "
   ]
  },
  {
   "cell_type": "code",
   "execution_count": null,
   "metadata": {},
   "outputs": [],
   "source": [
    "DB api:"
   ]
  },
  {
   "cell_type": "code",
   "execution_count": null,
   "metadata": {},
   "outputs": [],
   "source": [
    "1 Connect to db  connect(db= \"\",user=\"\", password = \"\",host =\"\")\n",
    "2 Cursor cursor\n",
    "3 execute(\"\")\n",
    "4 close the connection "
   ]
  },
  {
   "cell_type": "code",
   "execution_count": null,
   "metadata": {},
   "outputs": [],
   "source": [
    "Relational db : Strcture of tables\n",
    "Non relational db : "
   ]
  },
  {
   "cell_type": "code",
   "execution_count": null,
   "metadata": {},
   "outputs": [],
   "source": [
    "Database :\n",
    "    Table1\n",
    "        Row and columns \n",
    "    Table2"
   ]
  },
  {
   "cell_type": "code",
   "execution_count": 2,
   "metadata": {},
   "outputs": [],
   "source": [
    "import sqlite3"
   ]
  },
  {
   "cell_type": "code",
   "execution_count": 4,
   "metadata": {},
   "outputs": [],
   "source": [
    "conn = sqlite3.connect(database = \"user\")"
   ]
  },
  {
   "cell_type": "code",
   "execution_count": 5,
   "metadata": {},
   "outputs": [],
   "source": [
    "cur = conn.cursor()"
   ]
  },
  {
   "cell_type": "code",
   "execution_count": 12,
   "metadata": {},
   "outputs": [
    {
     "data": {
      "text/plain": [
       "<sqlite3.Cursor at 0x23b608b7500>"
      ]
     },
     "execution_count": 12,
     "metadata": {},
     "output_type": "execute_result"
    }
   ],
   "source": [
    "cur.execute(\"\"\"CREATE TABLE IF NOT EXISTS USER1\n",
    "    (ID INT PRIMARY KEY,\n",
    "    FNAME CHAR(32),\n",
    "    LNAME CHAR(32),\n",
    "    EMAIL VARCHAR(32)) \"\"\")"
   ]
  },
  {
   "cell_type": "code",
   "execution_count": 18,
   "metadata": {},
   "outputs": [
    {
     "name": "stdout",
     "output_type": "stream",
     "text": [
      "ID already exist \n"
     ]
    }
   ],
   "source": [
    "try:\n",
    "    cur.execute(\"\"\" INSERT INTO USER1 (ID,FNAME,LNAME,EMAIL) VALUES (101,\"ab\",\"c\",\"ABC@XYZ.COM\")\"\"\")\n",
    "except sqlite3.IntegrityError:\n",
    "    print(\"ID already exist \")"
   ]
  },
  {
   "cell_type": "code",
   "execution_count": 21,
   "metadata": {},
   "outputs": [
    {
     "name": "stdout",
     "output_type": "stream",
     "text": [
      "ID already exist \n"
     ]
    }
   ],
   "source": [
    "id = 102\n",
    "first_name = 'pq'\n",
    "last_name = 'r' \n",
    "email = 'pr@xyz.com'\n",
    "\n",
    "try:\n",
    "    cur.execute(\"\"\" INSERT INTO USER1 (ID,FNAME,LNAME,EMAIL) VALUES (?,?,?,?)\"\"\",(id,first_name,last_name,email))\n",
    "except sqlite3.IntegrityError:\n",
    "    print(\"ID already exist \")\n",
    "\n"
   ]
  },
  {
   "cell_type": "code",
   "execution_count": 22,
   "metadata": {},
   "outputs": [],
   "source": [
    "try:\n",
    "    cur.execute(\"\"\" INSERT INTO USER1 (ID,FNAME,LNAME,EMAIL) VALUES (103,\"xy\",\"c\",\"xy@XYZ.COM\")\"\"\")\n",
    "    cur.execute(\"\"\" INSERT INTO USER1 (ID,FNAME,LNAME,EMAIL) VALUES (104,\"pp\",\"c\",\"pp@XYZ.COM\")\"\"\")\n",
    "    cur.execute(\"\"\" INSERT INTO USER1 (ID,FNAME,LNAME,EMAIL) VALUES (105,\"rr\",\"c\",\"rr@XYZ.COM\")\"\"\")\n",
    "except sqlite3.IntegrityError:\n",
    "    print(\"ID already exist \")"
   ]
  },
  {
   "cell_type": "code",
   "execution_count": 33,
   "metadata": {},
   "outputs": [
    {
     "data": {
      "text/plain": [
       "<sqlite3.Cursor at 0x23b608b7500>"
      ]
     },
     "execution_count": 33,
     "metadata": {},
     "output_type": "execute_result"
    }
   ],
   "source": [
    "cur.execute(\"SELECT * FROM USER1\")"
   ]
  },
  {
   "cell_type": "code",
   "execution_count": 28,
   "metadata": {},
   "outputs": [
    {
     "name": "stdout",
     "output_type": "stream",
     "text": [
      "(103, 'xy', 'c', 'xy@XYZ.COM')\n",
      "(104, 'pp', 'c', 'pp@XYZ.COM')\n",
      "(105, 'rr', 'c', 'rr@XYZ.COM')\n"
     ]
    }
   ],
   "source": [
    "print(next(cur))\n",
    "print(next(cur))\n",
    "\n",
    "for row in cur:\n",
    "    print(row)"
   ]
  },
  {
   "cell_type": "code",
   "execution_count": 32,
   "metadata": {},
   "outputs": [
    {
     "name": "stdout",
     "output_type": "stream",
     "text": [
      "(102, 'pq', 'r', 'pr@xyz.com')\n",
      "(103, 'xy', 'c', 'xy@XYZ.COM')\n"
     ]
    }
   ],
   "source": [
    "print(cur.fetchone())\n",
    "print(cur.fetchone())"
   ]
  },
  {
   "cell_type": "code",
   "execution_count": 34,
   "metadata": {},
   "outputs": [
    {
     "name": "stdout",
     "output_type": "stream",
     "text": [
      "[(101, 'ab', 'c', 'ABC@XYZ.COM'), (102, 'pq', 'r', 'pr@xyz.com'), (103, 'xy', 'c', 'xy@XYZ.COM'), (104, 'pp', 'c', 'pp@XYZ.COM'), (105, 'rr', 'c', 'rr@XYZ.COM')]\n"
     ]
    }
   ],
   "source": [
    "print(cur.fetchall())"
   ]
  },
  {
   "cell_type": "code",
   "execution_count": 35,
   "metadata": {},
   "outputs": [
    {
     "data": {
      "text/plain": [
       "<sqlite3.Cursor at 0x23b608b7500>"
      ]
     },
     "execution_count": 35,
     "metadata": {},
     "output_type": "execute_result"
    }
   ],
   "source": [
    "cur.execute(\"UPDATE USER1 SET EMAIL = 'TT@XYZ.COM' WHERE ID = 102\")"
   ]
  },
  {
   "cell_type": "code",
   "execution_count": 36,
   "metadata": {},
   "outputs": [
    {
     "name": "stdout",
     "output_type": "stream",
     "text": [
      "(102, 'pq', 'r', 'TT@XYZ.COM')\n"
     ]
    }
   ],
   "source": [
    "cur.execute(\"SELECT * FROM USER1 WHERE ID = 102\")\n",
    "print(next(cur))"
   ]
  },
  {
   "cell_type": "code",
   "execution_count": 37,
   "metadata": {},
   "outputs": [
    {
     "data": {
      "text/plain": [
       "<sqlite3.Cursor at 0x23b608b7500>"
      ]
     },
     "execution_count": 37,
     "metadata": {},
     "output_type": "execute_result"
    }
   ],
   "source": [
    "cur.execute(\"DELETE FROM USER1 WHERE ID = 102\")"
   ]
  },
  {
   "cell_type": "code",
   "execution_count": 38,
   "metadata": {},
   "outputs": [
    {
     "name": "stdout",
     "output_type": "stream",
     "text": [
      "[(101, 'ab', 'c', 'ABC@XYZ.COM'), (103, 'xy', 'c', 'xy@XYZ.COM'), (104, 'pp', 'c', 'pp@XYZ.COM'), (105, 'rr', 'c', 'rr@XYZ.COM')]\n"
     ]
    }
   ],
   "source": [
    "cur.execute(\"SELECT * FROM USER1\")\n",
    "print(cur.fetchall())"
   ]
  },
  {
   "cell_type": "code",
   "execution_count": 39,
   "metadata": {},
   "outputs": [],
   "source": [
    "conn.commit()"
   ]
  },
  {
   "cell_type": "code",
   "execution_count": 40,
   "metadata": {},
   "outputs": [],
   "source": [
    "conn.close()"
   ]
  },
  {
   "cell_type": "code",
   "execution_count": null,
   "metadata": {},
   "outputs": [],
   "source": [
    "postgres pycopg2"
   ]
  },
  {
   "cell_type": "code",
   "execution_count": null,
   "metadata": {},
   "outputs": [],
   "source": [
    "pip install psycopg2 "
   ]
  },
  {
   "cell_type": "code",
   "execution_count": 41,
   "metadata": {},
   "outputs": [],
   "source": [
    "import psycopg2"
   ]
  },
  {
   "cell_type": "code",
   "execution_count": 42,
   "metadata": {},
   "outputs": [],
   "source": [
    "conn = psycopg2.connect(database = \"Resources\", host =\"localhost\",user = \"postgres\" , password = \"test@123\")"
   ]
  },
  {
   "cell_type": "code",
   "execution_count": 43,
   "metadata": {},
   "outputs": [],
   "source": [
    "cur = conn.cursor()"
   ]
  },
  {
   "cell_type": "code",
   "execution_count": 44,
   "metadata": {},
   "outputs": [],
   "source": [
    "cur.execute(\"SELECT * FROM VIDEO\")"
   ]
  },
  {
   "cell_type": "code",
   "execution_count": 45,
   "metadata": {},
   "outputs": [
    {
     "name": "stdout",
     "output_type": "stream",
     "text": [
      "[(1, 'python', 1000, datetime.date(2019, 2, 11))]\n"
     ]
    }
   ],
   "source": [
    "print(cur.fetchall())"
   ]
  },
  {
   "cell_type": "code",
   "execution_count": 61,
   "metadata": {},
   "outputs": [],
   "source": [
    "try:\n",
    "    cur.execute(\"\"\" INSERT INTO VIDEO(ID,TITLE,VIEWS,DATE) VALUES(2, 'LOOPS' ,2500, '2019-01-01' )\"\"\")\n",
    "except psycopg2.InternalError:\n",
    "    print(\"Executing rollback\")\n",
    "    conn.rollback()"
   ]
  },
  {
   "cell_type": "code",
   "execution_count": 56,
   "metadata": {},
   "outputs": [],
   "source": [
    "conn.rollback()"
   ]
  },
  {
   "cell_type": "code",
   "execution_count": 62,
   "metadata": {},
   "outputs": [],
   "source": [
    "conn.commit()"
   ]
  },
  {
   "cell_type": "code",
   "execution_count": null,
   "metadata": {},
   "outputs": [],
   "source": [
    "Database :\n",
    "    Collections :\n",
    "        documents "
   ]
  },
  {
   "cell_type": "code",
   "execution_count": null,
   "metadata": {},
   "outputs": [],
   "source": [
    "collections \n",
    "shutil\n",
    "psutil \n",
    "datetime "
   ]
  }
 ],
 "metadata": {
  "kernelspec": {
   "display_name": "Python 3",
   "language": "python",
   "name": "python3"
  },
  "language_info": {
   "codemirror_mode": {
    "name": "ipython",
    "version": 3
   },
   "file_extension": ".py",
   "mimetype": "text/x-python",
   "name": "python",
   "nbconvert_exporter": "python",
   "pygments_lexer": "ipython3",
   "version": "3.6.5"
  }
 },
 "nbformat": 4,
 "nbformat_minor": 2
}
